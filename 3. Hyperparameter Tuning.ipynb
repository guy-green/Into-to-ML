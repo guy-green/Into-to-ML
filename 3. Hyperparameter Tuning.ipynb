{
 "cells": [
  {
   "cell_type": "markdown",
   "id": "97c53268",
   "metadata": {},
   "source": [
    "# Hyperparameter Tuning"
   ]
  },
  {
   "cell_type": "markdown",
   "id": "aa8c48d8",
   "metadata": {},
   "source": [
    "In this Notebook we will show how to automate the selection of optimal hyperparameters, using a [grid search](#1) of parameter configurations or a [randomised search](#2). We will also look at how to [display the results](#3) before [summarising](#4) all points."
   ]
  },
  {
   "cell_type": "markdown",
   "id": "0271aa55",
   "metadata": {},
   "source": [
    "## Load Data + Set Up"
   ]
  },
  {
   "cell_type": "code",
   "execution_count": 92,
   "id": "531dccef",
   "metadata": {},
   "outputs": [],
   "source": [
    "import pandas as pd\n",
    "import seaborn as sns\n",
    "import numpy as np\n",
    "\n",
    "# to display nice model diagram\n",
    "from sklearn import set_config\n",
    "set_config(display='diagram')"
   ]
  },
  {
   "cell_type": "code",
   "execution_count": 40,
   "id": "d0478bfe",
   "metadata": {},
   "outputs": [
    {
     "data": {
      "text/html": [
       "<div>\n",
       "<style scoped>\n",
       "    .dataframe tbody tr th:only-of-type {\n",
       "        vertical-align: middle;\n",
       "    }\n",
       "\n",
       "    .dataframe tbody tr th {\n",
       "        vertical-align: top;\n",
       "    }\n",
       "\n",
       "    .dataframe thead th {\n",
       "        text-align: right;\n",
       "    }\n",
       "</style>\n",
       "<table border=\"1\" class=\"dataframe\">\n",
       "  <thead>\n",
       "    <tr style=\"text-align: right;\">\n",
       "      <th></th>\n",
       "      <th>age</th>\n",
       "      <th>workclass</th>\n",
       "      <th>education</th>\n",
       "      <th>marital-status</th>\n",
       "      <th>occupation</th>\n",
       "      <th>relationship</th>\n",
       "      <th>race</th>\n",
       "      <th>sex</th>\n",
       "      <th>capital-gain</th>\n",
       "      <th>capital-loss</th>\n",
       "      <th>hours-per-week</th>\n",
       "      <th>native-country</th>\n",
       "    </tr>\n",
       "  </thead>\n",
       "  <tbody>\n",
       "    <tr>\n",
       "      <th>0</th>\n",
       "      <td>25</td>\n",
       "      <td>Private</td>\n",
       "      <td>11th</td>\n",
       "      <td>Never-married</td>\n",
       "      <td>Machine-op-inspct</td>\n",
       "      <td>Own-child</td>\n",
       "      <td>Black</td>\n",
       "      <td>Male</td>\n",
       "      <td>0</td>\n",
       "      <td>0</td>\n",
       "      <td>40</td>\n",
       "      <td>United-States</td>\n",
       "    </tr>\n",
       "    <tr>\n",
       "      <th>1</th>\n",
       "      <td>38</td>\n",
       "      <td>Private</td>\n",
       "      <td>HS-grad</td>\n",
       "      <td>Married-civ-spouse</td>\n",
       "      <td>Farming-fishing</td>\n",
       "      <td>Husband</td>\n",
       "      <td>White</td>\n",
       "      <td>Male</td>\n",
       "      <td>0</td>\n",
       "      <td>0</td>\n",
       "      <td>50</td>\n",
       "      <td>United-States</td>\n",
       "    </tr>\n",
       "    <tr>\n",
       "      <th>2</th>\n",
       "      <td>28</td>\n",
       "      <td>Local-gov</td>\n",
       "      <td>Assoc-acdm</td>\n",
       "      <td>Married-civ-spouse</td>\n",
       "      <td>Protective-serv</td>\n",
       "      <td>Husband</td>\n",
       "      <td>White</td>\n",
       "      <td>Male</td>\n",
       "      <td>0</td>\n",
       "      <td>0</td>\n",
       "      <td>40</td>\n",
       "      <td>United-States</td>\n",
       "    </tr>\n",
       "    <tr>\n",
       "      <th>3</th>\n",
       "      <td>44</td>\n",
       "      <td>Private</td>\n",
       "      <td>Some-college</td>\n",
       "      <td>Married-civ-spouse</td>\n",
       "      <td>Machine-op-inspct</td>\n",
       "      <td>Husband</td>\n",
       "      <td>Black</td>\n",
       "      <td>Male</td>\n",
       "      <td>7688</td>\n",
       "      <td>0</td>\n",
       "      <td>40</td>\n",
       "      <td>United-States</td>\n",
       "    </tr>\n",
       "    <tr>\n",
       "      <th>4</th>\n",
       "      <td>18</td>\n",
       "      <td>?</td>\n",
       "      <td>Some-college</td>\n",
       "      <td>Never-married</td>\n",
       "      <td>?</td>\n",
       "      <td>Own-child</td>\n",
       "      <td>White</td>\n",
       "      <td>Female</td>\n",
       "      <td>0</td>\n",
       "      <td>0</td>\n",
       "      <td>30</td>\n",
       "      <td>United-States</td>\n",
       "    </tr>\n",
       "  </tbody>\n",
       "</table>\n",
       "</div>"
      ],
      "text/plain": [
       "   age   workclass      education       marital-status          occupation  \\\n",
       "0   25     Private           11th        Never-married   Machine-op-inspct   \n",
       "1   38     Private        HS-grad   Married-civ-spouse     Farming-fishing   \n",
       "2   28   Local-gov     Assoc-acdm   Married-civ-spouse     Protective-serv   \n",
       "3   44     Private   Some-college   Married-civ-spouse   Machine-op-inspct   \n",
       "4   18           ?   Some-college        Never-married                   ?   \n",
       "\n",
       "  relationship    race      sex  capital-gain  capital-loss  hours-per-week  \\\n",
       "0    Own-child   Black     Male             0             0              40   \n",
       "1      Husband   White     Male             0             0              50   \n",
       "2      Husband   White     Male             0             0              40   \n",
       "3      Husband   Black     Male          7688             0              40   \n",
       "4    Own-child   White   Female             0             0              30   \n",
       "\n",
       "   native-country  \n",
       "0   United-States  \n",
       "1   United-States  \n",
       "2   United-States  \n",
       "3   United-States  \n",
       "4   United-States  "
      ]
     },
     "execution_count": 40,
     "metadata": {},
     "output_type": "execute_result"
    }
   ],
   "source": [
    "# load data\n",
    "adult_census = pd.read_csv(\"datasets/adult-census.csv\")\n",
    "\n",
    "# set target\n",
    "target_name = \"class\"\n",
    "\n",
    "target = adult_census[target_name]\n",
    "data = adult_census.drop(columns=[target_name, \"education-num\"])\n",
    "data.head()"
   ]
  },
  {
   "cell_type": "code",
   "execution_count": 41,
   "id": "688ce7eb",
   "metadata": {},
   "outputs": [],
   "source": [
    "# split the dataset into a test and train sets\n",
    "from sklearn.model_selection import train_test_split\n",
    "\n",
    "data_train, data_test, target_train, target_test = train_test_split(\n",
    "    data, target, random_state=42)"
   ]
  },
  {
   "cell_type": "markdown",
   "id": "d11b7f0a",
   "metadata": {},
   "source": [
    "### Data Preprocessing"
   ]
  },
  {
   "cell_type": "code",
   "execution_count": 42,
   "id": "c9c14ed7",
   "metadata": {},
   "outputs": [],
   "source": [
    "# selector for categorical data only\n",
    "from sklearn.compose import make_column_selector as selector\n",
    "\n",
    "categorical_columns_selector = selector(dtype_include=object)\n",
    "categorical_columns = categorical_columns_selector(data)"
   ]
  },
  {
   "cell_type": "code",
   "execution_count": 43,
   "id": "2a5da877",
   "metadata": {},
   "outputs": [],
   "source": [
    "from sklearn.preprocessing import OrdinalEncoder\n",
    "\n",
    "categorical_preprocessor = OrdinalEncoder(handle_unknown=\"use_encoded_value\",\n",
    "                                          unknown_value=-1)"
   ]
  },
  {
   "cell_type": "code",
   "execution_count": 44,
   "id": "5d47477e",
   "metadata": {},
   "outputs": [],
   "source": [
    "# preprocess categorical data, but not numerical data (no need to scale with the model we will use)\n",
    "from sklearn.compose import ColumnTransformer\n",
    "\n",
    "preprocessor = ColumnTransformer([\n",
    "    ('cat_preprocessor', categorical_preprocessor, categorical_columns)],\n",
    "    remainder='passthrough', sparse_threshold=0)"
   ]
  },
  {
   "cell_type": "markdown",
   "id": "d130b82a",
   "metadata": {},
   "source": [
    "### Create Model for Comparison"
   ]
  },
  {
   "cell_type": "code",
   "execution_count": 51,
   "id": "07708276",
   "metadata": {},
   "outputs": [
    {
     "name": "stdout",
     "output_type": "stream",
     "text": [
      "Wall time: 684 ms\n"
     ]
    },
    {
     "data": {
      "text/html": [
       "<style>#sk-3923059c-10c0-473e-ad44-bc8b0fef0e9a {color: black;background-color: white;}#sk-3923059c-10c0-473e-ad44-bc8b0fef0e9a pre{padding: 0;}#sk-3923059c-10c0-473e-ad44-bc8b0fef0e9a div.sk-toggleable {background-color: white;}#sk-3923059c-10c0-473e-ad44-bc8b0fef0e9a label.sk-toggleable__label {cursor: pointer;display: block;width: 100%;margin-bottom: 0;padding: 0.3em;box-sizing: border-box;text-align: center;}#sk-3923059c-10c0-473e-ad44-bc8b0fef0e9a div.sk-toggleable__content {max-height: 0;max-width: 0;overflow: hidden;text-align: left;background-color: #f0f8ff;}#sk-3923059c-10c0-473e-ad44-bc8b0fef0e9a div.sk-toggleable__content pre {margin: 0.2em;color: black;border-radius: 0.25em;background-color: #f0f8ff;}#sk-3923059c-10c0-473e-ad44-bc8b0fef0e9a input.sk-toggleable__control:checked~div.sk-toggleable__content {max-height: 200px;max-width: 100%;overflow: auto;}#sk-3923059c-10c0-473e-ad44-bc8b0fef0e9a div.sk-estimator input.sk-toggleable__control:checked~label.sk-toggleable__label {background-color: #d4ebff;}#sk-3923059c-10c0-473e-ad44-bc8b0fef0e9a div.sk-label input.sk-toggleable__control:checked~label.sk-toggleable__label {background-color: #d4ebff;}#sk-3923059c-10c0-473e-ad44-bc8b0fef0e9a input.sk-hidden--visually {border: 0;clip: rect(1px 1px 1px 1px);clip: rect(1px, 1px, 1px, 1px);height: 1px;margin: -1px;overflow: hidden;padding: 0;position: absolute;width: 1px;}#sk-3923059c-10c0-473e-ad44-bc8b0fef0e9a div.sk-estimator {font-family: monospace;background-color: #f0f8ff;border: 1px dotted black;border-radius: 0.25em;box-sizing: border-box;margin-bottom: 0.5em;}#sk-3923059c-10c0-473e-ad44-bc8b0fef0e9a div.sk-estimator:hover {background-color: #d4ebff;}#sk-3923059c-10c0-473e-ad44-bc8b0fef0e9a div.sk-parallel-item::after {content: \"\";width: 100%;border-bottom: 1px solid gray;flex-grow: 1;}#sk-3923059c-10c0-473e-ad44-bc8b0fef0e9a div.sk-label:hover label.sk-toggleable__label {background-color: #d4ebff;}#sk-3923059c-10c0-473e-ad44-bc8b0fef0e9a div.sk-serial::before {content: \"\";position: absolute;border-left: 1px solid gray;box-sizing: border-box;top: 2em;bottom: 0;left: 50%;}#sk-3923059c-10c0-473e-ad44-bc8b0fef0e9a div.sk-serial {display: flex;flex-direction: column;align-items: center;background-color: white;padding-right: 0.2em;padding-left: 0.2em;}#sk-3923059c-10c0-473e-ad44-bc8b0fef0e9a div.sk-item {z-index: 1;}#sk-3923059c-10c0-473e-ad44-bc8b0fef0e9a div.sk-parallel {display: flex;align-items: stretch;justify-content: center;background-color: white;}#sk-3923059c-10c0-473e-ad44-bc8b0fef0e9a div.sk-parallel::before {content: \"\";position: absolute;border-left: 1px solid gray;box-sizing: border-box;top: 2em;bottom: 0;left: 50%;}#sk-3923059c-10c0-473e-ad44-bc8b0fef0e9a div.sk-parallel-item {display: flex;flex-direction: column;position: relative;background-color: white;}#sk-3923059c-10c0-473e-ad44-bc8b0fef0e9a div.sk-parallel-item:first-child::after {align-self: flex-end;width: 50%;}#sk-3923059c-10c0-473e-ad44-bc8b0fef0e9a div.sk-parallel-item:last-child::after {align-self: flex-start;width: 50%;}#sk-3923059c-10c0-473e-ad44-bc8b0fef0e9a div.sk-parallel-item:only-child::after {width: 0;}#sk-3923059c-10c0-473e-ad44-bc8b0fef0e9a div.sk-dashed-wrapped {border: 1px dashed gray;margin: 0 0.4em 0.5em 0.4em;box-sizing: border-box;padding-bottom: 0.4em;background-color: white;position: relative;}#sk-3923059c-10c0-473e-ad44-bc8b0fef0e9a div.sk-label label {font-family: monospace;font-weight: bold;background-color: white;display: inline-block;line-height: 1.2em;}#sk-3923059c-10c0-473e-ad44-bc8b0fef0e9a div.sk-label-container {position: relative;z-index: 2;text-align: center;}#sk-3923059c-10c0-473e-ad44-bc8b0fef0e9a div.sk-container {display: inline-block;position: relative;}</style><div id=\"sk-3923059c-10c0-473e-ad44-bc8b0fef0e9a\" class\"sk-top-container\"><div class=\"sk-container\"><div class=\"sk-item sk-dashed-wrapped\"><div class=\"sk-label-container\"><div class=\"sk-label sk-toggleable\"><input class=\"sk-toggleable__control sk-hidden--visually\" id=\"29ddbd0f-dc77-4cfc-b88f-3f86281b839c\" type=\"checkbox\" ><label class=\"sk-toggleable__label\" for=\"29ddbd0f-dc77-4cfc-b88f-3f86281b839c\">Pipeline</label><div class=\"sk-toggleable__content\"><pre>Pipeline(steps=[('preprocessor',\n",
       "                 ColumnTransformer(remainder='passthrough', sparse_threshold=0,\n",
       "                                   transformers=[('cat_preprocessor',\n",
       "                                                  OrdinalEncoder(handle_unknown='use_encoded_value',\n",
       "                                                                 unknown_value=-1),\n",
       "                                                  ['workclass', 'education',\n",
       "                                                   'marital-status',\n",
       "                                                   'occupation', 'relationship',\n",
       "                                                   'race', 'sex',\n",
       "                                                   'native-country'])])),\n",
       "                ('classifier',\n",
       "                 HistGradientBoostingClassifier(max_leaf_nodes=4,\n",
       "                                                random_state=42))])</pre></div></div></div><div class=\"sk-serial\"><div class=\"sk-item sk-dashed-wrapped\"><div class=\"sk-label-container\"><div class=\"sk-label sk-toggleable\"><input class=\"sk-toggleable__control sk-hidden--visually\" id=\"aac9145a-f3fb-4f04-be8e-b936d28ac2b1\" type=\"checkbox\" ><label class=\"sk-toggleable__label\" for=\"aac9145a-f3fb-4f04-be8e-b936d28ac2b1\">preprocessor: ColumnTransformer</label><div class=\"sk-toggleable__content\"><pre>ColumnTransformer(remainder='passthrough', sparse_threshold=0,\n",
       "                  transformers=[('cat_preprocessor',\n",
       "                                 OrdinalEncoder(handle_unknown='use_encoded_value',\n",
       "                                                unknown_value=-1),\n",
       "                                 ['workclass', 'education', 'marital-status',\n",
       "                                  'occupation', 'relationship', 'race', 'sex',\n",
       "                                  'native-country'])])</pre></div></div></div><div class=\"sk-parallel\"><div class=\"sk-parallel-item\"><div class=\"sk-item\"><div class=\"sk-label-container\"><div class=\"sk-label sk-toggleable\"><input class=\"sk-toggleable__control sk-hidden--visually\" id=\"cca44241-9a46-4993-9dee-4936a02d01fd\" type=\"checkbox\" ><label class=\"sk-toggleable__label\" for=\"cca44241-9a46-4993-9dee-4936a02d01fd\">cat_preprocessor</label><div class=\"sk-toggleable__content\"><pre>['workclass', 'education', 'marital-status', 'occupation', 'relationship', 'race', 'sex', 'native-country']</pre></div></div></div><div class=\"sk-serial\"><div class=\"sk-item\"><div class=\"sk-estimator sk-toggleable\"><input class=\"sk-toggleable__control sk-hidden--visually\" id=\"428bd996-a30e-4487-bd60-b8bf6a8da998\" type=\"checkbox\" ><label class=\"sk-toggleable__label\" for=\"428bd996-a30e-4487-bd60-b8bf6a8da998\">OrdinalEncoder</label><div class=\"sk-toggleable__content\"><pre>OrdinalEncoder(handle_unknown='use_encoded_value', unknown_value=-1)</pre></div></div></div></div></div></div><div class=\"sk-parallel-item\"><div class=\"sk-item\"><div class=\"sk-label-container\"><div class=\"sk-label sk-toggleable\"><input class=\"sk-toggleable__control sk-hidden--visually\" id=\"54a5b2d3-2304-4dc8-aa01-98af44a076ff\" type=\"checkbox\" ><label class=\"sk-toggleable__label\" for=\"54a5b2d3-2304-4dc8-aa01-98af44a076ff\">remainder</label><div class=\"sk-toggleable__content\"><pre>['age', 'capital-gain', 'capital-loss', 'hours-per-week']</pre></div></div></div><div class=\"sk-serial\"><div class=\"sk-item\"><div class=\"sk-estimator sk-toggleable\"><input class=\"sk-toggleable__control sk-hidden--visually\" id=\"711172db-a7ca-4710-939b-3d8a941ab804\" type=\"checkbox\" ><label class=\"sk-toggleable__label\" for=\"711172db-a7ca-4710-939b-3d8a941ab804\">passthrough</label><div class=\"sk-toggleable__content\"><pre>passthrough</pre></div></div></div></div></div></div></div></div><div class=\"sk-item\"><div class=\"sk-estimator sk-toggleable\"><input class=\"sk-toggleable__control sk-hidden--visually\" id=\"062cfb12-c64d-4797-b6ba-68acae85cc65\" type=\"checkbox\" ><label class=\"sk-toggleable__label\" for=\"062cfb12-c64d-4797-b6ba-68acae85cc65\">HistGradientBoostingClassifier</label><div class=\"sk-toggleable__content\"><pre>HistGradientBoostingClassifier(max_leaf_nodes=4, random_state=42)</pre></div></div></div></div></div></div></div>"
      ],
      "text/plain": [
       "Pipeline(steps=[('preprocessor',\n",
       "                 ColumnTransformer(remainder='passthrough', sparse_threshold=0,\n",
       "                                   transformers=[('cat_preprocessor',\n",
       "                                                  OrdinalEncoder(handle_unknown='use_encoded_value',\n",
       "                                                                 unknown_value=-1),\n",
       "                                                  ['workclass', 'education',\n",
       "                                                   'marital-status',\n",
       "                                                   'occupation', 'relationship',\n",
       "                                                   'race', 'sex',\n",
       "                                                   'native-country'])])),\n",
       "                ('classifier',\n",
       "                 HistGradientBoostingClassifier(max_leaf_nodes=4,\n",
       "                                                random_state=42))])"
      ]
     },
     "execution_count": 51,
     "metadata": {},
     "output_type": "execute_result"
    }
   ],
   "source": [
    "%%time\n",
    "# create model\n",
    "from sklearn.ensemble import HistGradientBoostingClassifier\n",
    "from sklearn.pipeline import Pipeline\n",
    "\n",
    "model = Pipeline([\n",
    "    (\"preprocessor\", preprocessor),\n",
    "    (\"classifier\",\n",
    "     HistGradientBoostingClassifier(random_state=42, max_leaf_nodes=4))])\n",
    "\n",
    "# fit the model\n",
    "model.fit(data_train, target_train)"
   ]
  },
  {
   "cell_type": "code",
   "execution_count": 52,
   "id": "fa8ce1c3",
   "metadata": {},
   "outputs": [
    {
     "name": "stdout",
     "output_type": "stream",
     "text": [
      "The test accuracy score of the pipeline is: 0.87\n"
     ]
    }
   ],
   "source": [
    "# evaluate model, but without cross-validation for simplicity\n",
    "accuracy = model.score(data_test, target_test)\n",
    "print(\n",
    "    f\"The test accuracy score of the pipeline is: \"\n",
    "    f\"{accuracy:.2f}\"\n",
    ")"
   ]
  },
  {
   "cell_type": "code",
   "execution_count": 104,
   "id": "4f65d5a1",
   "metadata": {
    "scrolled": true
   },
   "outputs": [
    {
     "name": "stdout",
     "output_type": "stream",
     "text": [
      "dict_keys(['memory', 'steps', 'verbose', 'preprocessor', 'classifier', 'preprocessor__n_jobs', 'preprocessor__remainder', 'preprocessor__sparse_threshold', 'preprocessor__transformer_weights', 'preprocessor__transformers', 'preprocessor__verbose', 'preprocessor__verbose_feature_names_out', 'preprocessor__cat_preprocessor', 'preprocessor__cat_preprocessor__categories', 'preprocessor__cat_preprocessor__dtype', 'preprocessor__cat_preprocessor__handle_unknown', 'preprocessor__cat_preprocessor__unknown_value', 'classifier__categorical_features', 'classifier__early_stopping', 'classifier__l2_regularization', 'classifier__learning_rate', 'classifier__loss', 'classifier__max_bins', 'classifier__max_depth', 'classifier__max_iter', 'classifier__max_leaf_nodes', 'classifier__min_samples_leaf', 'classifier__monotonic_cst', 'classifier__n_iter_no_change', 'classifier__random_state', 'classifier__scoring', 'classifier__tol', 'classifier__validation_fraction', 'classifier__verbose', 'classifier__warm_start'])\n"
     ]
    }
   ],
   "source": [
    "# get a list of the models parameters (remove .keys() to also show the values)\n",
    "model.get_params().keys()"
   ]
  },
  {
   "cell_type": "markdown",
   "id": "76392da1",
   "metadata": {},
   "source": [
    "<a id=\"1\" ></a>\n",
    "## 1) GridSearchCV"
   ]
  },
  {
   "cell_type": "code",
   "execution_count": 54,
   "id": "f57d1063",
   "metadata": {},
   "outputs": [
    {
     "name": "stdout",
     "output_type": "stream",
     "text": [
      "Wall time: 14.8 s\n"
     ]
    },
    {
     "data": {
      "text/html": [
       "<style>#sk-2c18bbe5-8e97-4c24-aae3-97c1b4249c71 {color: black;background-color: white;}#sk-2c18bbe5-8e97-4c24-aae3-97c1b4249c71 pre{padding: 0;}#sk-2c18bbe5-8e97-4c24-aae3-97c1b4249c71 div.sk-toggleable {background-color: white;}#sk-2c18bbe5-8e97-4c24-aae3-97c1b4249c71 label.sk-toggleable__label {cursor: pointer;display: block;width: 100%;margin-bottom: 0;padding: 0.3em;box-sizing: border-box;text-align: center;}#sk-2c18bbe5-8e97-4c24-aae3-97c1b4249c71 div.sk-toggleable__content {max-height: 0;max-width: 0;overflow: hidden;text-align: left;background-color: #f0f8ff;}#sk-2c18bbe5-8e97-4c24-aae3-97c1b4249c71 div.sk-toggleable__content pre {margin: 0.2em;color: black;border-radius: 0.25em;background-color: #f0f8ff;}#sk-2c18bbe5-8e97-4c24-aae3-97c1b4249c71 input.sk-toggleable__control:checked~div.sk-toggleable__content {max-height: 200px;max-width: 100%;overflow: auto;}#sk-2c18bbe5-8e97-4c24-aae3-97c1b4249c71 div.sk-estimator input.sk-toggleable__control:checked~label.sk-toggleable__label {background-color: #d4ebff;}#sk-2c18bbe5-8e97-4c24-aae3-97c1b4249c71 div.sk-label input.sk-toggleable__control:checked~label.sk-toggleable__label {background-color: #d4ebff;}#sk-2c18bbe5-8e97-4c24-aae3-97c1b4249c71 input.sk-hidden--visually {border: 0;clip: rect(1px 1px 1px 1px);clip: rect(1px, 1px, 1px, 1px);height: 1px;margin: -1px;overflow: hidden;padding: 0;position: absolute;width: 1px;}#sk-2c18bbe5-8e97-4c24-aae3-97c1b4249c71 div.sk-estimator {font-family: monospace;background-color: #f0f8ff;border: 1px dotted black;border-radius: 0.25em;box-sizing: border-box;margin-bottom: 0.5em;}#sk-2c18bbe5-8e97-4c24-aae3-97c1b4249c71 div.sk-estimator:hover {background-color: #d4ebff;}#sk-2c18bbe5-8e97-4c24-aae3-97c1b4249c71 div.sk-parallel-item::after {content: \"\";width: 100%;border-bottom: 1px solid gray;flex-grow: 1;}#sk-2c18bbe5-8e97-4c24-aae3-97c1b4249c71 div.sk-label:hover label.sk-toggleable__label {background-color: #d4ebff;}#sk-2c18bbe5-8e97-4c24-aae3-97c1b4249c71 div.sk-serial::before {content: \"\";position: absolute;border-left: 1px solid gray;box-sizing: border-box;top: 2em;bottom: 0;left: 50%;}#sk-2c18bbe5-8e97-4c24-aae3-97c1b4249c71 div.sk-serial {display: flex;flex-direction: column;align-items: center;background-color: white;padding-right: 0.2em;padding-left: 0.2em;}#sk-2c18bbe5-8e97-4c24-aae3-97c1b4249c71 div.sk-item {z-index: 1;}#sk-2c18bbe5-8e97-4c24-aae3-97c1b4249c71 div.sk-parallel {display: flex;align-items: stretch;justify-content: center;background-color: white;}#sk-2c18bbe5-8e97-4c24-aae3-97c1b4249c71 div.sk-parallel::before {content: \"\";position: absolute;border-left: 1px solid gray;box-sizing: border-box;top: 2em;bottom: 0;left: 50%;}#sk-2c18bbe5-8e97-4c24-aae3-97c1b4249c71 div.sk-parallel-item {display: flex;flex-direction: column;position: relative;background-color: white;}#sk-2c18bbe5-8e97-4c24-aae3-97c1b4249c71 div.sk-parallel-item:first-child::after {align-self: flex-end;width: 50%;}#sk-2c18bbe5-8e97-4c24-aae3-97c1b4249c71 div.sk-parallel-item:last-child::after {align-self: flex-start;width: 50%;}#sk-2c18bbe5-8e97-4c24-aae3-97c1b4249c71 div.sk-parallel-item:only-child::after {width: 0;}#sk-2c18bbe5-8e97-4c24-aae3-97c1b4249c71 div.sk-dashed-wrapped {border: 1px dashed gray;margin: 0 0.4em 0.5em 0.4em;box-sizing: border-box;padding-bottom: 0.4em;background-color: white;position: relative;}#sk-2c18bbe5-8e97-4c24-aae3-97c1b4249c71 div.sk-label label {font-family: monospace;font-weight: bold;background-color: white;display: inline-block;line-height: 1.2em;}#sk-2c18bbe5-8e97-4c24-aae3-97c1b4249c71 div.sk-label-container {position: relative;z-index: 2;text-align: center;}#sk-2c18bbe5-8e97-4c24-aae3-97c1b4249c71 div.sk-container {display: inline-block;position: relative;}</style><div id=\"sk-2c18bbe5-8e97-4c24-aae3-97c1b4249c71\" class\"sk-top-container\"><div class=\"sk-container\"><div class=\"sk-item sk-dashed-wrapped\"><div class=\"sk-label-container\"><div class=\"sk-label sk-toggleable\"><input class=\"sk-toggleable__control sk-hidden--visually\" id=\"bc1f0880-7a4c-40b9-9aa1-c853bc68a7c6\" type=\"checkbox\" ><label class=\"sk-toggleable__label\" for=\"bc1f0880-7a4c-40b9-9aa1-c853bc68a7c6\">GridSearchCV</label><div class=\"sk-toggleable__content\"><pre>GridSearchCV(cv=2,\n",
       "             estimator=Pipeline(steps=[('preprocessor',\n",
       "                                        ColumnTransformer(remainder='passthrough',\n",
       "                                                          sparse_threshold=0,\n",
       "                                                          transformers=[('cat_preprocessor',\n",
       "                                                                         OrdinalEncoder(handle_unknown='use_encoded_value',\n",
       "                                                                                        unknown_value=-1),\n",
       "                                                                         ['workclass',\n",
       "                                                                          'education',\n",
       "                                                                          'marital-status',\n",
       "                                                                          'occupation',\n",
       "                                                                          'relationship',\n",
       "                                                                          'race',\n",
       "                                                                          'sex',\n",
       "                                                                          'native-country'])])),\n",
       "                                       ('classifier',\n",
       "                                        HistGradientBoostingClassifier(max_leaf_nodes=4,\n",
       "                                                                       random_state=42))]),\n",
       "             n_jobs=2,\n",
       "             param_grid={'classifier__learning_rate': (0.01, 0.1, 1, 10),\n",
       "                         'classifier__max_leaf_nodes': (3, 10, 30)})</pre></div></div></div><div class=\"sk-parallel\"><div class=\"sk-parallel-item\"><div class=\"sk-item\"><div class=\"sk-serial\"><div class=\"sk-item\"><div class=\"sk-serial\"><div class=\"sk-item sk-dashed-wrapped\"><div class=\"sk-label-container\"><div class=\"sk-label sk-toggleable\"><input class=\"sk-toggleable__control sk-hidden--visually\" id=\"d9011c63-a1b4-4b41-8cc2-b7a3c9a6b331\" type=\"checkbox\" ><label class=\"sk-toggleable__label\" for=\"d9011c63-a1b4-4b41-8cc2-b7a3c9a6b331\">preprocessor: ColumnTransformer</label><div class=\"sk-toggleable__content\"><pre>ColumnTransformer(remainder='passthrough', sparse_threshold=0,\n",
       "                  transformers=[('cat_preprocessor',\n",
       "                                 OrdinalEncoder(handle_unknown='use_encoded_value',\n",
       "                                                unknown_value=-1),\n",
       "                                 ['workclass', 'education', 'marital-status',\n",
       "                                  'occupation', 'relationship', 'race', 'sex',\n",
       "                                  'native-country'])])</pre></div></div></div><div class=\"sk-parallel\"><div class=\"sk-parallel-item\"><div class=\"sk-item\"><div class=\"sk-label-container\"><div class=\"sk-label sk-toggleable\"><input class=\"sk-toggleable__control sk-hidden--visually\" id=\"bce14bc3-f86c-454b-b3c8-81d2f3293e76\" type=\"checkbox\" ><label class=\"sk-toggleable__label\" for=\"bce14bc3-f86c-454b-b3c8-81d2f3293e76\">cat_preprocessor</label><div class=\"sk-toggleable__content\"><pre>['workclass', 'education', 'marital-status', 'occupation', 'relationship', 'race', 'sex', 'native-country']</pre></div></div></div><div class=\"sk-serial\"><div class=\"sk-item\"><div class=\"sk-estimator sk-toggleable\"><input class=\"sk-toggleable__control sk-hidden--visually\" id=\"3c788769-d53f-4476-b79a-7809c63a4641\" type=\"checkbox\" ><label class=\"sk-toggleable__label\" for=\"3c788769-d53f-4476-b79a-7809c63a4641\">OrdinalEncoder</label><div class=\"sk-toggleable__content\"><pre>OrdinalEncoder(handle_unknown='use_encoded_value', unknown_value=-1)</pre></div></div></div></div></div></div><div class=\"sk-parallel-item\"><div class=\"sk-item\"><div class=\"sk-label-container\"><div class=\"sk-label sk-toggleable\"><input class=\"sk-toggleable__control sk-hidden--visually\" id=\"a81bc689-040b-46ec-8c11-6b9de1680901\" type=\"checkbox\" ><label class=\"sk-toggleable__label\" for=\"a81bc689-040b-46ec-8c11-6b9de1680901\">remainder</label><div class=\"sk-toggleable__content\"><pre>['age', 'capital-gain', 'capital-loss', 'hours-per-week']</pre></div></div></div><div class=\"sk-serial\"><div class=\"sk-item\"><div class=\"sk-estimator sk-toggleable\"><input class=\"sk-toggleable__control sk-hidden--visually\" id=\"951a338e-baab-432e-9bca-685b0b795b50\" type=\"checkbox\" ><label class=\"sk-toggleable__label\" for=\"951a338e-baab-432e-9bca-685b0b795b50\">passthrough</label><div class=\"sk-toggleable__content\"><pre>passthrough</pre></div></div></div></div></div></div></div></div><div class=\"sk-item\"><div class=\"sk-estimator sk-toggleable\"><input class=\"sk-toggleable__control sk-hidden--visually\" id=\"81a4c3ae-8dc5-4190-b060-054aa8edd60e\" type=\"checkbox\" ><label class=\"sk-toggleable__label\" for=\"81a4c3ae-8dc5-4190-b060-054aa8edd60e\">HistGradientBoostingClassifier</label><div class=\"sk-toggleable__content\"><pre>HistGradientBoostingClassifier(max_leaf_nodes=4, random_state=42)</pre></div></div></div></div></div></div></div></div></div></div></div></div>"
      ],
      "text/plain": [
       "GridSearchCV(cv=2,\n",
       "             estimator=Pipeline(steps=[('preprocessor',\n",
       "                                        ColumnTransformer(remainder='passthrough',\n",
       "                                                          sparse_threshold=0,\n",
       "                                                          transformers=[('cat_preprocessor',\n",
       "                                                                         OrdinalEncoder(handle_unknown='use_encoded_value',\n",
       "                                                                                        unknown_value=-1),\n",
       "                                                                         ['workclass',\n",
       "                                                                          'education',\n",
       "                                                                          'marital-status',\n",
       "                                                                          'occupation',\n",
       "                                                                          'relationship',\n",
       "                                                                          'race',\n",
       "                                                                          'sex',\n",
       "                                                                          'native-country'])])),\n",
       "                                       ('classifier',\n",
       "                                        HistGradientBoostingClassifier(max_leaf_nodes=4,\n",
       "                                                                       random_state=42))]),\n",
       "             n_jobs=2,\n",
       "             param_grid={'classifier__learning_rate': (0.01, 0.1, 1, 10),\n",
       "                         'classifier__max_leaf_nodes': (3, 10, 30)})"
      ]
     },
     "execution_count": 54,
     "metadata": {},
     "output_type": "execute_result"
    }
   ],
   "source": [
    "%%time\n",
    "from sklearn.model_selection import GridSearchCV\n",
    "\n",
    "# provide a set of values to test for chosen hyperparameters\n",
    "param_grid = {\n",
    "    'classifier__learning_rate': (0.01, 0.1, 1, 10),\n",
    "    'classifier__max_leaf_nodes': (3, 10, 30)}\n",
    "\n",
    "# using the same model as before, find the best combination of provided parameters\n",
    "model_grid_search = GridSearchCV(model, param_grid=param_grid,\n",
    "                                 n_jobs=2, cv=2)\n",
    "model_grid_search.fit(data_train, target_train)"
   ]
  },
  {
   "cell_type": "code",
   "execution_count": 55,
   "id": "1f944890",
   "metadata": {},
   "outputs": [
    {
     "name": "stdout",
     "output_type": "stream",
     "text": [
      "The test accuracy score of the grid-searched pipeline is: 0.88\n"
     ]
    }
   ],
   "source": [
    "# evaluate model, but without cross-validation for simplicity\n",
    "accuracy = model_grid_search.score(data_test, target_test)\n",
    "print(\n",
    "    f\"The test accuracy score of the grid-searched pipeline is: \"\n",
    "    f\"{accuracy:.2f}\"\n",
    ")"
   ]
  },
  {
   "cell_type": "markdown",
   "id": "a493e0ab",
   "metadata": {},
   "source": [
    "The `GridSearchCV` estimator takes a `param_grid` parameter which defines all hyperparameters and their associated values that we want to test. The grid-search will be in charge of creating all possible combinations and test them.\n",
    "\n",
    "The number of combinations will be equal to the product of the number of values to explore for each parameter ( 4 x 3 combinations here). Thus, adding new parameters with their associated values to be explored become rapidly __computationally expensive__.\n",
    "\n",
    "Once the grid-search is fitted, it can be used as any other predictor by calling predict and predict_proba. __Internally, it will use the model with the best parameters found during fit__."
   ]
  },
  {
   "cell_type": "code",
   "execution_count": 56,
   "id": "39dd7a44",
   "metadata": {},
   "outputs": [
    {
     "name": "stdout",
     "output_type": "stream",
     "text": [
      "The best set of parameters is: {'classifier__learning_rate': 0.1, 'classifier__max_leaf_nodes': 30}\n"
     ]
    }
   ],
   "source": [
    "print(f\"The best set of parameters is: \"\n",
    "      f\"{model_grid_search.best_params_}\")"
   ]
  },
  {
   "cell_type": "markdown",
   "id": "c82a2ae4",
   "metadata": {},
   "source": [
    "### Explore Results"
   ]
  },
  {
   "cell_type": "code",
   "execution_count": 57,
   "id": "b2da73d1",
   "metadata": {},
   "outputs": [
    {
     "data": {
      "text/html": [
       "<div>\n",
       "<style scoped>\n",
       "    .dataframe tbody tr th:only-of-type {\n",
       "        vertical-align: middle;\n",
       "    }\n",
       "\n",
       "    .dataframe tbody tr th {\n",
       "        vertical-align: top;\n",
       "    }\n",
       "\n",
       "    .dataframe thead th {\n",
       "        text-align: right;\n",
       "    }\n",
       "</style>\n",
       "<table border=\"1\" class=\"dataframe\">\n",
       "  <thead>\n",
       "    <tr style=\"text-align: right;\">\n",
       "      <th></th>\n",
       "      <th>mean_fit_time</th>\n",
       "      <th>std_fit_time</th>\n",
       "      <th>mean_score_time</th>\n",
       "      <th>std_score_time</th>\n",
       "      <th>param_classifier__learning_rate</th>\n",
       "      <th>param_classifier__max_leaf_nodes</th>\n",
       "      <th>params</th>\n",
       "      <th>split0_test_score</th>\n",
       "      <th>split1_test_score</th>\n",
       "      <th>mean_test_score</th>\n",
       "      <th>std_test_score</th>\n",
       "      <th>rank_test_score</th>\n",
       "    </tr>\n",
       "  </thead>\n",
       "  <tbody>\n",
       "    <tr>\n",
       "      <th>5</th>\n",
       "      <td>1.210504</td>\n",
       "      <td>0.090090</td>\n",
       "      <td>0.246707</td>\n",
       "      <td>0.003950</td>\n",
       "      <td>0.1</td>\n",
       "      <td>30</td>\n",
       "      <td>{'classifier__learning_rate': 0.1, 'classifier...</td>\n",
       "      <td>0.868912</td>\n",
       "      <td>0.867213</td>\n",
       "      <td>0.868063</td>\n",
       "      <td>0.000850</td>\n",
       "      <td>1</td>\n",
       "    </tr>\n",
       "    <tr>\n",
       "      <th>4</th>\n",
       "      <td>0.672045</td>\n",
       "      <td>0.001063</td>\n",
       "      <td>0.223092</td>\n",
       "      <td>0.007669</td>\n",
       "      <td>0.1</td>\n",
       "      <td>10</td>\n",
       "      <td>{'classifier__learning_rate': 0.1, 'classifier...</td>\n",
       "      <td>0.866783</td>\n",
       "      <td>0.866066</td>\n",
       "      <td>0.866425</td>\n",
       "      <td>0.000359</td>\n",
       "      <td>2</td>\n",
       "    </tr>\n",
       "    <tr>\n",
       "      <th>7</th>\n",
       "      <td>0.256112</td>\n",
       "      <td>0.002323</td>\n",
       "      <td>0.153963</td>\n",
       "      <td>0.003791</td>\n",
       "      <td>1</td>\n",
       "      <td>10</td>\n",
       "      <td>{'classifier__learning_rate': 1, 'classifier__...</td>\n",
       "      <td>0.854826</td>\n",
       "      <td>0.862899</td>\n",
       "      <td>0.858863</td>\n",
       "      <td>0.004036</td>\n",
       "      <td>3</td>\n",
       "    </tr>\n",
       "    <tr>\n",
       "      <th>6</th>\n",
       "      <td>0.326341</td>\n",
       "      <td>0.093696</td>\n",
       "      <td>0.177871</td>\n",
       "      <td>0.004522</td>\n",
       "      <td>1</td>\n",
       "      <td>3</td>\n",
       "      <td>{'classifier__learning_rate': 1, 'classifier__...</td>\n",
       "      <td>0.853844</td>\n",
       "      <td>0.860934</td>\n",
       "      <td>0.857389</td>\n",
       "      <td>0.003545</td>\n",
       "      <td>4</td>\n",
       "    </tr>\n",
       "    <tr>\n",
       "      <th>3</th>\n",
       "      <td>0.409324</td>\n",
       "      <td>0.006147</td>\n",
       "      <td>0.206883</td>\n",
       "      <td>0.009406</td>\n",
       "      <td>0.1</td>\n",
       "      <td>3</td>\n",
       "      <td>{'classifier__learning_rate': 0.1, 'classifier...</td>\n",
       "      <td>0.852752</td>\n",
       "      <td>0.853781</td>\n",
       "      <td>0.853266</td>\n",
       "      <td>0.000515</td>\n",
       "      <td>5</td>\n",
       "    </tr>\n",
       "  </tbody>\n",
       "</table>\n",
       "</div>"
      ],
      "text/plain": [
       "   mean_fit_time  std_fit_time  mean_score_time  std_score_time  \\\n",
       "5       1.210504      0.090090         0.246707        0.003950   \n",
       "4       0.672045      0.001063         0.223092        0.007669   \n",
       "7       0.256112      0.002323         0.153963        0.003791   \n",
       "6       0.326341      0.093696         0.177871        0.004522   \n",
       "3       0.409324      0.006147         0.206883        0.009406   \n",
       "\n",
       "  param_classifier__learning_rate param_classifier__max_leaf_nodes  \\\n",
       "5                             0.1                               30   \n",
       "4                             0.1                               10   \n",
       "7                               1                               10   \n",
       "6                               1                                3   \n",
       "3                             0.1                                3   \n",
       "\n",
       "                                              params  split0_test_score  \\\n",
       "5  {'classifier__learning_rate': 0.1, 'classifier...           0.868912   \n",
       "4  {'classifier__learning_rate': 0.1, 'classifier...           0.866783   \n",
       "7  {'classifier__learning_rate': 1, 'classifier__...           0.854826   \n",
       "6  {'classifier__learning_rate': 1, 'classifier__...           0.853844   \n",
       "3  {'classifier__learning_rate': 0.1, 'classifier...           0.852752   \n",
       "\n",
       "   split1_test_score  mean_test_score  std_test_score  rank_test_score  \n",
       "5           0.867213         0.868063        0.000850                1  \n",
       "4           0.866066         0.866425        0.000359                2  \n",
       "7           0.862899         0.858863        0.004036                3  \n",
       "6           0.860934         0.857389        0.003545                4  \n",
       "3           0.853781         0.853266        0.000515                5  "
      ]
     },
     "execution_count": 57,
     "metadata": {},
     "output_type": "execute_result"
    }
   ],
   "source": [
    "# add results to a dataframe to examine all results\n",
    "cv_results = pd.DataFrame(model_grid_search.cv_results_).sort_values(\n",
    "    \"mean_test_score\", ascending=False)\n",
    "cv_results.head()"
   ]
  },
  {
   "cell_type": "code",
   "execution_count": 60,
   "id": "2dcfee84",
   "metadata": {},
   "outputs": [],
   "source": [
    "# get the parameter names\n",
    "column_results = [f\"param_{name}\" for name in param_grid.keys()]\n",
    "\n",
    "# add only the results we are interested in\n",
    "column_results += [\n",
    "    \"mean_test_score\", \"std_test_score\", \"rank_test_score\"]\n",
    "cv_results = cv_results[column_results]"
   ]
  },
  {
   "cell_type": "code",
   "execution_count": 61,
   "id": "1fb3b4e3",
   "metadata": {},
   "outputs": [
    {
     "data": {
      "text/html": [
       "<div>\n",
       "<style scoped>\n",
       "    .dataframe tbody tr th:only-of-type {\n",
       "        vertical-align: middle;\n",
       "    }\n",
       "\n",
       "    .dataframe tbody tr th {\n",
       "        vertical-align: top;\n",
       "    }\n",
       "\n",
       "    .dataframe thead th {\n",
       "        text-align: right;\n",
       "    }\n",
       "</style>\n",
       "<table border=\"1\" class=\"dataframe\">\n",
       "  <thead>\n",
       "    <tr style=\"text-align: right;\">\n",
       "      <th></th>\n",
       "      <th>learning_rate</th>\n",
       "      <th>max_leaf_nodes</th>\n",
       "      <th>mean_test_score</th>\n",
       "      <th>std_test_score</th>\n",
       "      <th>rank_test_score</th>\n",
       "    </tr>\n",
       "  </thead>\n",
       "  <tbody>\n",
       "    <tr>\n",
       "      <th>5</th>\n",
       "      <td>0.1</td>\n",
       "      <td>30</td>\n",
       "      <td>0.868063</td>\n",
       "      <td>0.000850</td>\n",
       "      <td>1</td>\n",
       "    </tr>\n",
       "    <tr>\n",
       "      <th>4</th>\n",
       "      <td>0.1</td>\n",
       "      <td>10</td>\n",
       "      <td>0.866425</td>\n",
       "      <td>0.000359</td>\n",
       "      <td>2</td>\n",
       "    </tr>\n",
       "    <tr>\n",
       "      <th>7</th>\n",
       "      <td>1</td>\n",
       "      <td>10</td>\n",
       "      <td>0.858863</td>\n",
       "      <td>0.004036</td>\n",
       "      <td>3</td>\n",
       "    </tr>\n",
       "    <tr>\n",
       "      <th>6</th>\n",
       "      <td>1</td>\n",
       "      <td>3</td>\n",
       "      <td>0.857389</td>\n",
       "      <td>0.003545</td>\n",
       "      <td>4</td>\n",
       "    </tr>\n",
       "    <tr>\n",
       "      <th>3</th>\n",
       "      <td>0.1</td>\n",
       "      <td>3</td>\n",
       "      <td>0.853266</td>\n",
       "      <td>0.000515</td>\n",
       "      <td>5</td>\n",
       "    </tr>\n",
       "    <tr>\n",
       "      <th>8</th>\n",
       "      <td>1</td>\n",
       "      <td>30</td>\n",
       "      <td>0.851028</td>\n",
       "      <td>0.002707</td>\n",
       "      <td>6</td>\n",
       "    </tr>\n",
       "    <tr>\n",
       "      <th>2</th>\n",
       "      <td>0.01</td>\n",
       "      <td>30</td>\n",
       "      <td>0.843330</td>\n",
       "      <td>0.002917</td>\n",
       "      <td>7</td>\n",
       "    </tr>\n",
       "    <tr>\n",
       "      <th>1</th>\n",
       "      <td>0.01</td>\n",
       "      <td>10</td>\n",
       "      <td>0.817832</td>\n",
       "      <td>0.001124</td>\n",
       "      <td>8</td>\n",
       "    </tr>\n",
       "    <tr>\n",
       "      <th>0</th>\n",
       "      <td>0.01</td>\n",
       "      <td>3</td>\n",
       "      <td>0.797166</td>\n",
       "      <td>0.000715</td>\n",
       "      <td>9</td>\n",
       "    </tr>\n",
       "    <tr>\n",
       "      <th>10</th>\n",
       "      <td>10</td>\n",
       "      <td>10</td>\n",
       "      <td>0.618080</td>\n",
       "      <td>0.124277</td>\n",
       "      <td>10</td>\n",
       "    </tr>\n",
       "    <tr>\n",
       "      <th>11</th>\n",
       "      <td>10</td>\n",
       "      <td>30</td>\n",
       "      <td>0.549338</td>\n",
       "      <td>0.210599</td>\n",
       "      <td>11</td>\n",
       "    </tr>\n",
       "    <tr>\n",
       "      <th>9</th>\n",
       "      <td>10</td>\n",
       "      <td>3</td>\n",
       "      <td>0.283476</td>\n",
       "      <td>0.003775</td>\n",
       "      <td>12</td>\n",
       "    </tr>\n",
       "  </tbody>\n",
       "</table>\n",
       "</div>"
      ],
      "text/plain": [
       "   learning_rate max_leaf_nodes  mean_test_score  std_test_score  \\\n",
       "5            0.1             30         0.868063        0.000850   \n",
       "4            0.1             10         0.866425        0.000359   \n",
       "7              1             10         0.858863        0.004036   \n",
       "6              1              3         0.857389        0.003545   \n",
       "3            0.1              3         0.853266        0.000515   \n",
       "8              1             30         0.851028        0.002707   \n",
       "2           0.01             30         0.843330        0.002917   \n",
       "1           0.01             10         0.817832        0.001124   \n",
       "0           0.01              3         0.797166        0.000715   \n",
       "10            10             10         0.618080        0.124277   \n",
       "11            10             30         0.549338        0.210599   \n",
       "9             10              3         0.283476        0.003775   \n",
       "\n",
       "    rank_test_score  \n",
       "5                 1  \n",
       "4                 2  \n",
       "7                 3  \n",
       "6                 4  \n",
       "3                 5  \n",
       "8                 6  \n",
       "2                 7  \n",
       "1                 8  \n",
       "0                 9  \n",
       "10               10  \n",
       "11               11  \n",
       "9                12  "
      ]
     },
     "execution_count": 61,
     "metadata": {},
     "output_type": "execute_result"
    }
   ],
   "source": [
    "# function to remove the headers from the parameter names\n",
    "def shorten_param(param_name):\n",
    "    if \"__\" in param_name:\n",
    "        return param_name.rsplit(\"__\", 1)[1]\n",
    "    return param_name\n",
    "\n",
    "cv_results = cv_results.rename(shorten_param, axis=1)\n",
    "cv_results"
   ]
  },
  {
   "cell_type": "code",
   "execution_count": 62,
   "id": "3fb43309",
   "metadata": {},
   "outputs": [
    {
     "data": {
      "text/html": [
       "<div>\n",
       "<style scoped>\n",
       "    .dataframe tbody tr th:only-of-type {\n",
       "        vertical-align: middle;\n",
       "    }\n",
       "\n",
       "    .dataframe tbody tr th {\n",
       "        vertical-align: top;\n",
       "    }\n",
       "\n",
       "    .dataframe thead th {\n",
       "        text-align: right;\n",
       "    }\n",
       "</style>\n",
       "<table border=\"1\" class=\"dataframe\">\n",
       "  <thead>\n",
       "    <tr style=\"text-align: right;\">\n",
       "      <th>max_leaf_nodes</th>\n",
       "      <th>3</th>\n",
       "      <th>10</th>\n",
       "      <th>30</th>\n",
       "    </tr>\n",
       "    <tr>\n",
       "      <th>learning_rate</th>\n",
       "      <th></th>\n",
       "      <th></th>\n",
       "      <th></th>\n",
       "    </tr>\n",
       "  </thead>\n",
       "  <tbody>\n",
       "    <tr>\n",
       "      <th>0.01</th>\n",
       "      <td>0.797166</td>\n",
       "      <td>0.817832</td>\n",
       "      <td>0.843330</td>\n",
       "    </tr>\n",
       "    <tr>\n",
       "      <th>0.10</th>\n",
       "      <td>0.853266</td>\n",
       "      <td>0.866425</td>\n",
       "      <td>0.868063</td>\n",
       "    </tr>\n",
       "    <tr>\n",
       "      <th>1.00</th>\n",
       "      <td>0.857389</td>\n",
       "      <td>0.858863</td>\n",
       "      <td>0.851028</td>\n",
       "    </tr>\n",
       "    <tr>\n",
       "      <th>10.00</th>\n",
       "      <td>0.283476</td>\n",
       "      <td>0.618080</td>\n",
       "      <td>0.549338</td>\n",
       "    </tr>\n",
       "  </tbody>\n",
       "</table>\n",
       "</div>"
      ],
      "text/plain": [
       "max_leaf_nodes        3         10        30\n",
       "learning_rate                               \n",
       "0.01            0.797166  0.817832  0.843330\n",
       "0.10            0.853266  0.866425  0.868063\n",
       "1.00            0.857389  0.858863  0.851028\n",
       "10.00           0.283476  0.618080  0.549338"
      ]
     },
     "execution_count": 62,
     "metadata": {},
     "output_type": "execute_result"
    }
   ],
   "source": [
    "# as we are only looking at 2 parameters, we can visualise this as a heatmap\n",
    "# first we transform the dataframe\n",
    "pivoted_cv_results = cv_results.pivot_table(\n",
    "    values=\"mean_test_score\", index=[\"learning_rate\"],\n",
    "    columns=[\"max_leaf_nodes\"])\n",
    "\n",
    "pivoted_cv_results"
   ]
  },
  {
   "cell_type": "code",
   "execution_count": 64,
   "id": "d9c8a2ca",
   "metadata": {},
   "outputs": [
    {
     "data": {
      "image/png": "[encoded data removed]",
      "text/plain": [
       "<Figure size 432x288 with 2 Axes>"
      ]
     },
     "metadata": {
      "needs_background": "light"
     },
     "output_type": "display_data"
    }
   ],
   "source": [
    "ax = sns.heatmap(pivoted_cv_results, annot=True, cmap=\"YlGnBu\", vmin=0.7,\n",
    "                 vmax=0.9)\n",
    "ax.invert_yaxis()"
   ]
  },
  {
   "cell_type": "markdown",
   "id": "96e2235f",
   "metadata": {},
   "source": [
    "The above tables highlights the following things:\n",
    "\n",
    "- for too high values of `learning_rate`, the generalization performance of the model is degraded and adjusting the value of max_leaf_nodes cannot fix that problem;\n",
    "\n",
    "- outside of this pathological region, we observe that the optimal choice of `max_leaf_nodes` depends on the value of learning_rate;\n",
    "\n",
    "- in particular, we observe a “diagonal” of good models with an accuracy close to the maximal of 0.87: when the value of `max_leaf_nodes` is increased, one should decrease the value of `learning_rate` accordingly to preserve a good accuracy.\n",
    "\n",
    "The precise meaning of those two parameters can be found here XXXXXXXX.\n",
    "\n",
    "Note that, in general, there is __no unique optimal parameter setting__: 4 models out of the 12 parameter configurations reach the maximal accuracy (up to small random fluctuations caused by the sampling of the training set)."
   ]
  },
  {
   "cell_type": "markdown",
   "id": "70073f41",
   "metadata": {},
   "source": [
    "<a id=\"2\" ></a>\n",
    "## 2) RandomisedSearchCV"
   ]
  },
  {
   "cell_type": "markdown",
   "id": "518fb857",
   "metadata": {},
   "source": [
    "With the `GridSearchCV` estimator, the parameters need to be specified __explicitly__, and exploring a large number of values for different parameters will be quickly untractable.\n",
    "\n",
    "Instead, we can __randomly generate the parameter candidates__. This approach __avoids the regularity of the grid__. Hence, adding more evaluations can increase the resolution in each direction. This is the case in the frequent situation where the choice of some hyperparameters is not very important, as for hyperparameter 2 in the figure below."
   ]
  },
  {
   "attachments": {
    "Randomised%20Hyperparameters.jpg": {
     "image/jpeg": "[encoded data removed]"
    }
   },
   "cell_type": "markdown",
   "id": "e46ba924",
   "metadata": {},
   "source": [
    "<div><img src=\"diagrams/Randomised%20Hyperparameters.jpg\" width=480></div>"
   ]
  },
  {
   "cell_type": "markdown",
   "id": "9d799256",
   "metadata": {},
   "source": [
    "With a grid, the danger is that the region of good hyperparameters fall between the line of the grid: this region is aligned with the grid given that hyperparameter 2 has a weak influence. Rather, stochastic search will sample hyperparameter 1 independently from hyperparameter 2 and find the optimal region.\n",
    "\n",
    "The `RandomizedSearchCV` class allows for such stochastic search. It is used similarly to the `GridSearchCV` but the sampling distributions need to be specified instead of the parameter values. Here we will draw candidates using a log-uniform distribution because the parameters we are interested in take positive values with a natural log scaling (.1 is as close to 1 as 10 is)."
   ]
  },
  {
   "cell_type": "markdown",
   "id": "23452346",
   "metadata": {},
   "source": [
    "We will look at 5 parameters, using the same model as before:\n",
    "- `l2_regularization`: the constant to regularized the loss function\n",
    "\n",
    "- `min_samples_leaf`: the minimum number of samples required in a leaf;\n",
    "\n",
    "- `max_bins`: the maximum number of bins to construct the histograms.\n",
    "\n",
    "- `learning_rate`: the speed at which the gradient-boosting will correct the residuals at each boosting iteration;\n",
    "\n",
    "- `max_leaf_nodes`: the maximum number of leaves for each tree in the ensemble."
   ]
  },
  {
   "cell_type": "code",
   "execution_count": 65,
   "id": "aaa94479",
   "metadata": {},
   "outputs": [],
   "source": [
    "# loguniform can be used to generate floating numbers\n",
    "from scipy.stats import loguniform\n",
    "\n",
    "\n",
    "class loguniform_int:\n",
    "    \"\"\"Integer valued version of the log-uniform distribution\"\"\"\n",
    "    def __init__(self, a, b):\n",
    "        self._distribution = loguniform(a, b)\n",
    "\n",
    "    def rvs(self, *args, **kwargs):\n",
    "        \"\"\"Random variable sample\"\"\"\n",
    "        return self._distribution.rvs(*args, **kwargs).astype(int)"
   ]
  },
  {
   "cell_type": "code",
   "execution_count": 87,
   "id": "cdd86bcf",
   "metadata": {},
   "outputs": [
    {
     "name": "stdout",
     "output_type": "stream",
     "text": [
      "Fitting 5 folds for each of 10 candidates, totalling 50 fits\n",
      "Wall time: 1min 18s\n"
     ]
    },
    {
     "data": {
      "text/html": [
       "<style>#sk-af330289-9234-4200-9c89-9deeada19461 {color: black;background-color: white;}#sk-af330289-9234-4200-9c89-9deeada19461 pre{padding: 0;}#sk-af330289-9234-4200-9c89-9deeada19461 div.sk-toggleable {background-color: white;}#sk-af330289-9234-4200-9c89-9deeada19461 label.sk-toggleable__label {cursor: pointer;display: block;width: 100%;margin-bottom: 0;padding: 0.3em;box-sizing: border-box;text-align: center;}#sk-af330289-9234-4200-9c89-9deeada19461 div.sk-toggleable__content {max-height: 0;max-width: 0;overflow: hidden;text-align: left;background-color: #f0f8ff;}#sk-af330289-9234-4200-9c89-9deeada19461 div.sk-toggleable__content pre {margin: 0.2em;color: black;border-radius: 0.25em;background-color: #f0f8ff;}#sk-af330289-9234-4200-9c89-9deeada19461 input.sk-toggleable__control:checked~div.sk-toggleable__content {max-height: 200px;max-width: 100%;overflow: auto;}#sk-af330289-9234-4200-9c89-9deeada19461 div.sk-estimator input.sk-toggleable__control:checked~label.sk-toggleable__label {background-color: #d4ebff;}#sk-af330289-9234-4200-9c89-9deeada19461 div.sk-label input.sk-toggleable__control:checked~label.sk-toggleable__label {background-color: #d4ebff;}#sk-af330289-9234-4200-9c89-9deeada19461 input.sk-hidden--visually {border: 0;clip: rect(1px 1px 1px 1px);clip: rect(1px, 1px, 1px, 1px);height: 1px;margin: -1px;overflow: hidden;padding: 0;position: absolute;width: 1px;}#sk-af330289-9234-4200-9c89-9deeada19461 div.sk-estimator {font-family: monospace;background-color: #f0f8ff;border: 1px dotted black;border-radius: 0.25em;box-sizing: border-box;margin-bottom: 0.5em;}#sk-af330289-9234-4200-9c89-9deeada19461 div.sk-estimator:hover {background-color: #d4ebff;}#sk-af330289-9234-4200-9c89-9deeada19461 div.sk-parallel-item::after {content: \"\";width: 100%;border-bottom: 1px solid gray;flex-grow: 1;}#sk-af330289-9234-4200-9c89-9deeada19461 div.sk-label:hover label.sk-toggleable__label {background-color: #d4ebff;}#sk-af330289-9234-4200-9c89-9deeada19461 div.sk-serial::before {content: \"\";position: absolute;border-left: 1px solid gray;box-sizing: border-box;top: 2em;bottom: 0;left: 50%;}#sk-af330289-9234-4200-9c89-9deeada19461 div.sk-serial {display: flex;flex-direction: column;align-items: center;background-color: white;padding-right: 0.2em;padding-left: 0.2em;}#sk-af330289-9234-4200-9c89-9deeada19461 div.sk-item {z-index: 1;}#sk-af330289-9234-4200-9c89-9deeada19461 div.sk-parallel {display: flex;align-items: stretch;justify-content: center;background-color: white;}#sk-af330289-9234-4200-9c89-9deeada19461 div.sk-parallel::before {content: \"\";position: absolute;border-left: 1px solid gray;box-sizing: border-box;top: 2em;bottom: 0;left: 50%;}#sk-af330289-9234-4200-9c89-9deeada19461 div.sk-parallel-item {display: flex;flex-direction: column;position: relative;background-color: white;}#sk-af330289-9234-4200-9c89-9deeada19461 div.sk-parallel-item:first-child::after {align-self: flex-end;width: 50%;}#sk-af330289-9234-4200-9c89-9deeada19461 div.sk-parallel-item:last-child::after {align-self: flex-start;width: 50%;}#sk-af330289-9234-4200-9c89-9deeada19461 div.sk-parallel-item:only-child::after {width: 0;}#sk-af330289-9234-4200-9c89-9deeada19461 div.sk-dashed-wrapped {border: 1px dashed gray;margin: 0 0.4em 0.5em 0.4em;box-sizing: border-box;padding-bottom: 0.4em;background-color: white;position: relative;}#sk-af330289-9234-4200-9c89-9deeada19461 div.sk-label label {font-family: monospace;font-weight: bold;background-color: white;display: inline-block;line-height: 1.2em;}#sk-af330289-9234-4200-9c89-9deeada19461 div.sk-label-container {position: relative;z-index: 2;text-align: center;}#sk-af330289-9234-4200-9c89-9deeada19461 div.sk-container {display: inline-block;position: relative;}</style><div id=\"sk-af330289-9234-4200-9c89-9deeada19461\" class\"sk-top-container\"><div class=\"sk-container\"><div class=\"sk-item sk-dashed-wrapped\"><div class=\"sk-label-container\"><div class=\"sk-label sk-toggleable\"><input class=\"sk-toggleable__control sk-hidden--visually\" id=\"45fe0889-7036-45ba-81b6-1bf32fe3c333\" type=\"checkbox\" ><label class=\"sk-toggleable__label\" for=\"45fe0889-7036-45ba-81b6-1bf32fe3c333\">RandomizedSearchCV</label><div class=\"sk-toggleable__content\"><pre>RandomizedSearchCV(cv=5,\n",
       "                   estimator=Pipeline(steps=[('preprocessor',\n",
       "                                              ColumnTransformer(remainder='passthrough',\n",
       "                                                                sparse_threshold=0,\n",
       "                                                                transformers=[('cat_preprocessor',\n",
       "                                                                               OrdinalEncoder(handle_unknown='use_encoded_value',\n",
       "                                                                                              unknown_value=-1),\n",
       "                                                                               ['workclass',\n",
       "                                                                                'education',\n",
       "                                                                                'marital-status',\n",
       "                                                                                'occupation',\n",
       "                                                                                'relationship',\n",
       "                                                                                'race',\n",
       "                                                                                'sex',\n",
       "                                                                                'native-country'])])),\n",
       "                                             ('classifier',\n",
       "                                              Hi...\n",
       "                                        'classifier__learning_rate': <scipy.stats._distn_infrastructure.rv_frozen object at 0x0000021EE55B5940>,\n",
       "                                        'classifier__max_bins': <__main__.loguniform_int object at 0x0000021EE51AC1F0>,\n",
       "                                        'classifier__max_leaf_nodes': <__main__.loguniform_int object at 0x0000021EE55ACFD0>,\n",
       "                                        'classifier__min_samples_leaf': <__main__.loguniform_int object at 0x0000021EE51AC340>},\n",
       "                   verbose=1)</pre></div></div></div><div class=\"sk-parallel\"><div class=\"sk-parallel-item\"><div class=\"sk-item\"><div class=\"sk-serial\"><div class=\"sk-item\"><div class=\"sk-serial\"><div class=\"sk-item sk-dashed-wrapped\"><div class=\"sk-label-container\"><div class=\"sk-label sk-toggleable\"><input class=\"sk-toggleable__control sk-hidden--visually\" id=\"5da19169-5c0d-4afc-989a-f11a1989ff0f\" type=\"checkbox\" ><label class=\"sk-toggleable__label\" for=\"5da19169-5c0d-4afc-989a-f11a1989ff0f\">preprocessor: ColumnTransformer</label><div class=\"sk-toggleable__content\"><pre>ColumnTransformer(remainder='passthrough', sparse_threshold=0,\n",
       "                  transformers=[('cat_preprocessor',\n",
       "                                 OrdinalEncoder(handle_unknown='use_encoded_value',\n",
       "                                                unknown_value=-1),\n",
       "                                 ['workclass', 'education', 'marital-status',\n",
       "                                  'occupation', 'relationship', 'race', 'sex',\n",
       "                                  'native-country'])])</pre></div></div></div><div class=\"sk-parallel\"><div class=\"sk-parallel-item\"><div class=\"sk-item\"><div class=\"sk-label-container\"><div class=\"sk-label sk-toggleable\"><input class=\"sk-toggleable__control sk-hidden--visually\" id=\"bfcc8407-af10-44bb-9aaf-c490c137f55c\" type=\"checkbox\" ><label class=\"sk-toggleable__label\" for=\"bfcc8407-af10-44bb-9aaf-c490c137f55c\">cat_preprocessor</label><div class=\"sk-toggleable__content\"><pre>['workclass', 'education', 'marital-status', 'occupation', 'relationship', 'race', 'sex', 'native-country']</pre></div></div></div><div class=\"sk-serial\"><div class=\"sk-item\"><div class=\"sk-estimator sk-toggleable\"><input class=\"sk-toggleable__control sk-hidden--visually\" id=\"558b89be-fd54-4885-913e-e8a950bbc1ed\" type=\"checkbox\" ><label class=\"sk-toggleable__label\" for=\"558b89be-fd54-4885-913e-e8a950bbc1ed\">OrdinalEncoder</label><div class=\"sk-toggleable__content\"><pre>OrdinalEncoder(handle_unknown='use_encoded_value', unknown_value=-1)</pre></div></div></div></div></div></div><div class=\"sk-parallel-item\"><div class=\"sk-item\"><div class=\"sk-label-container\"><div class=\"sk-label sk-toggleable\"><input class=\"sk-toggleable__control sk-hidden--visually\" id=\"dc7c860c-fd79-4dbd-818d-2fe34a940c66\" type=\"checkbox\" ><label class=\"sk-toggleable__label\" for=\"dc7c860c-fd79-4dbd-818d-2fe34a940c66\">remainder</label><div class=\"sk-toggleable__content\"><pre>['age', 'capital-gain', 'capital-loss', 'hours-per-week']</pre></div></div></div><div class=\"sk-serial\"><div class=\"sk-item\"><div class=\"sk-estimator sk-toggleable\"><input class=\"sk-toggleable__control sk-hidden--visually\" id=\"199b2fbc-b39a-4d4c-9677-22c957c6eb25\" type=\"checkbox\" ><label class=\"sk-toggleable__label\" for=\"199b2fbc-b39a-4d4c-9677-22c957c6eb25\">passthrough</label><div class=\"sk-toggleable__content\"><pre>passthrough</pre></div></div></div></div></div></div></div></div><div class=\"sk-item\"><div class=\"sk-estimator sk-toggleable\"><input class=\"sk-toggleable__control sk-hidden--visually\" id=\"b2a8dcbb-2050-41c7-a00b-2273e2446526\" type=\"checkbox\" ><label class=\"sk-toggleable__label\" for=\"b2a8dcbb-2050-41c7-a00b-2273e2446526\">HistGradientBoostingClassifier</label><div class=\"sk-toggleable__content\"><pre>HistGradientBoostingClassifier(max_leaf_nodes=4, random_state=42)</pre></div></div></div></div></div></div></div></div></div></div></div></div>"
      ],
      "text/plain": [
       "RandomizedSearchCV(cv=5,\n",
       "                   estimator=Pipeline(steps=[('preprocessor',\n",
       "                                              ColumnTransformer(remainder='passthrough',\n",
       "                                                                sparse_threshold=0,\n",
       "                                                                transformers=[('cat_preprocessor',\n",
       "                                                                               OrdinalEncoder(handle_unknown='use_encoded_value',\n",
       "                                                                                              unknown_value=-1),\n",
       "                                                                               ['workclass',\n",
       "                                                                                'education',\n",
       "                                                                                'marital-status',\n",
       "                                                                                'occupation',\n",
       "                                                                                'relationship',\n",
       "                                                                                'race',\n",
       "                                                                                'sex',\n",
       "                                                                                'native-country'])])),\n",
       "                                             ('classifier',\n",
       "                                              Hi...\n",
       "                                        'classifier__learning_rate': <scipy.stats._distn_infrastructure.rv_frozen object at 0x0000021EE55B5940>,\n",
       "                                        'classifier__max_bins': <__main__.loguniform_int object at 0x0000021EE51AC1F0>,\n",
       "                                        'classifier__max_leaf_nodes': <__main__.loguniform_int object at 0x0000021EE55ACFD0>,\n",
       "                                        'classifier__min_samples_leaf': <__main__.loguniform_int object at 0x0000021EE51AC340>},\n",
       "                   verbose=1)"
      ]
     },
     "execution_count": 87,
     "metadata": {},
     "output_type": "execute_result"
    }
   ],
   "source": [
    "%%time\n",
    "from sklearn.model_selection import RandomizedSearchCV\n",
    "\n",
    "# provide parameters to compare\n",
    "param_distributions = {\n",
    "    'classifier__l2_regularization': loguniform(1e-6, 1e3),\n",
    "    'classifier__learning_rate': loguniform(0.001, 10),\n",
    "    'classifier__max_leaf_nodes': loguniform_int(2, 256),\n",
    "    'classifier__min_samples_leaf': loguniform_int(1, 100),\n",
    "    'classifier__max_bins': loguniform_int(2, 255),\n",
    "}\n",
    "\n",
    "# using model from before\n",
    "model_random_search = RandomizedSearchCV(\n",
    "    model, param_distributions=param_distributions, n_iter=10,\n",
    "    cv=5, verbose=1,\n",
    ")\n",
    "model_random_search.fit(data_train, target_train)"
   ]
  },
  {
   "cell_type": "code",
   "execution_count": 88,
   "id": "f21a9c27",
   "metadata": {},
   "outputs": [
    {
     "name": "stdout",
     "output_type": "stream",
     "text": [
      "The test accuracy score of the best model is 0.87\n"
     ]
    }
   ],
   "source": [
    "accuracy = model_random_search.score(data_test, target_test)\n",
    "\n",
    "print(f\"The test accuracy score of the best model is \"\n",
    "      f\"{accuracy:.2f}\")"
   ]
  },
  {
   "cell_type": "code",
   "execution_count": 89,
   "id": "0a5225dc",
   "metadata": {},
   "outputs": [
    {
     "name": "stdout",
     "output_type": "stream",
     "text": [
      "The best parameters are:\n",
      "{'classifier__l2_regularization': 1.3274248181267697e-05,\n",
      " 'classifier__learning_rate': 0.9286290647137745,\n",
      " 'classifier__max_bins': 87,\n",
      " 'classifier__max_leaf_nodes': 9,\n",
      " 'classifier__min_samples_leaf': 1}\n"
     ]
    }
   ],
   "source": [
    "from pprint import pprint\n",
    "\n",
    "print(\"The best parameters are:\")\n",
    "pprint(model_random_search.best_params_)"
   ]
  },
  {
   "cell_type": "code",
   "execution_count": 90,
   "id": "7105178f",
   "metadata": {},
   "outputs": [
    {
     "data": {
      "text/html": [
       "<div>\n",
       "<style scoped>\n",
       "    .dataframe tbody tr th:only-of-type {\n",
       "        vertical-align: middle;\n",
       "    }\n",
       "\n",
       "    .dataframe tbody tr th {\n",
       "        vertical-align: top;\n",
       "    }\n",
       "\n",
       "    .dataframe thead th {\n",
       "        text-align: right;\n",
       "    }\n",
       "</style>\n",
       "<table border=\"1\" class=\"dataframe\">\n",
       "  <thead>\n",
       "    <tr style=\"text-align: right;\">\n",
       "      <th></th>\n",
       "      <th>l2_regularization</th>\n",
       "      <th>learning_rate</th>\n",
       "      <th>max_leaf_nodes</th>\n",
       "      <th>min_samples_leaf</th>\n",
       "      <th>max_bins</th>\n",
       "      <th>mean_test_score</th>\n",
       "      <th>std_test_score</th>\n",
       "      <th>rank_test_score</th>\n",
       "    </tr>\n",
       "  </thead>\n",
       "  <tbody>\n",
       "    <tr>\n",
       "      <th>6</th>\n",
       "      <td>0.000013</td>\n",
       "      <td>0.928629</td>\n",
       "      <td>9</td>\n",
       "      <td>1</td>\n",
       "      <td>87</td>\n",
       "      <td>0.855805</td>\n",
       "      <td>0.002907</td>\n",
       "      <td>1</td>\n",
       "    </tr>\n",
       "    <tr>\n",
       "      <th>9</th>\n",
       "      <td>23.401205</td>\n",
       "      <td>0.055114</td>\n",
       "      <td>26</td>\n",
       "      <td>2</td>\n",
       "      <td>24</td>\n",
       "      <td>0.855669</td>\n",
       "      <td>0.003712</td>\n",
       "      <td>2</td>\n",
       "    </tr>\n",
       "    <tr>\n",
       "      <th>2</th>\n",
       "      <td>5.63575</td>\n",
       "      <td>1.039054</td>\n",
       "      <td>141</td>\n",
       "      <td>57</td>\n",
       "      <td>74</td>\n",
       "      <td>0.844667</td>\n",
       "      <td>0.002816</td>\n",
       "      <td>3</td>\n",
       "    </tr>\n",
       "    <tr>\n",
       "      <th>1</th>\n",
       "      <td>0.005933</td>\n",
       "      <td>0.207635</td>\n",
       "      <td>2</td>\n",
       "      <td>26</td>\n",
       "      <td>22</td>\n",
       "      <td>0.842893</td>\n",
       "      <td>0.002869</td>\n",
       "      <td>4</td>\n",
       "    </tr>\n",
       "    <tr>\n",
       "      <th>5</th>\n",
       "      <td>0.000193</td>\n",
       "      <td>0.014643</td>\n",
       "      <td>12</td>\n",
       "      <td>64</td>\n",
       "      <td>59</td>\n",
       "      <td>0.842538</td>\n",
       "      <td>0.001843</td>\n",
       "      <td>5</td>\n",
       "    </tr>\n",
       "    <tr>\n",
       "      <th>8</th>\n",
       "      <td>0.745006</td>\n",
       "      <td>0.046348</td>\n",
       "      <td>70</td>\n",
       "      <td>4</td>\n",
       "      <td>7</td>\n",
       "      <td>0.840518</td>\n",
       "      <td>0.003038</td>\n",
       "      <td>6</td>\n",
       "    </tr>\n",
       "    <tr>\n",
       "      <th>0</th>\n",
       "      <td>0.563505</td>\n",
       "      <td>0.046331</td>\n",
       "      <td>50</td>\n",
       "      <td>2</td>\n",
       "      <td>4</td>\n",
       "      <td>0.814938</td>\n",
       "      <td>0.001386</td>\n",
       "      <td>7</td>\n",
       "    </tr>\n",
       "    <tr>\n",
       "      <th>4</th>\n",
       "      <td>561.431746</td>\n",
       "      <td>0.187412</td>\n",
       "      <td>247</td>\n",
       "      <td>52</td>\n",
       "      <td>2</td>\n",
       "      <td>0.801752</td>\n",
       "      <td>0.003378</td>\n",
       "      <td>8</td>\n",
       "    </tr>\n",
       "    <tr>\n",
       "      <th>3</th>\n",
       "      <td>18.154296</td>\n",
       "      <td>0.014494</td>\n",
       "      <td>51</td>\n",
       "      <td>83</td>\n",
       "      <td>2</td>\n",
       "      <td>0.793836</td>\n",
       "      <td>0.001721</td>\n",
       "      <td>9</td>\n",
       "    </tr>\n",
       "    <tr>\n",
       "      <th>7</th>\n",
       "      <td>0.001263</td>\n",
       "      <td>0.001021</td>\n",
       "      <td>15</td>\n",
       "      <td>8</td>\n",
       "      <td>15</td>\n",
       "      <td>0.758947</td>\n",
       "      <td>0.000013</td>\n",
       "      <td>10</td>\n",
       "    </tr>\n",
       "  </tbody>\n",
       "</table>\n",
       "</div>"
      ],
      "text/plain": [
       "  l2_regularization learning_rate max_leaf_nodes min_samples_leaf max_bins  \\\n",
       "6          0.000013      0.928629              9                1       87   \n",
       "9         23.401205      0.055114             26                2       24   \n",
       "2           5.63575      1.039054            141               57       74   \n",
       "1          0.005933      0.207635              2               26       22   \n",
       "5          0.000193      0.014643             12               64       59   \n",
       "8          0.745006      0.046348             70                4        7   \n",
       "0          0.563505      0.046331             50                2        4   \n",
       "4        561.431746      0.187412            247               52        2   \n",
       "3         18.154296      0.014494             51               83        2   \n",
       "7          0.001263      0.001021             15                8       15   \n",
       "\n",
       "   mean_test_score  std_test_score  rank_test_score  \n",
       "6         0.855805        0.002907                1  \n",
       "9         0.855669        0.003712                2  \n",
       "2         0.844667        0.002816                3  \n",
       "1         0.842893        0.002869                4  \n",
       "5         0.842538        0.001843                5  \n",
       "8         0.840518        0.003038                6  \n",
       "0         0.814938        0.001386                7  \n",
       "4         0.801752        0.003378                8  \n",
       "3         0.793836        0.001721                9  \n",
       "7         0.758947        0.000013               10  "
      ]
     },
     "execution_count": 90,
     "metadata": {},
     "output_type": "execute_result"
    }
   ],
   "source": [
    "# inspect results as before\n",
    "# get the parameter names\n",
    "column_results = [\n",
    "    f\"param_{name}\" for name in param_distributions.keys()]\n",
    "# keep only the columns we are interseted in\n",
    "column_results += [\n",
    "    \"mean_test_score\", \"std_test_score\", \"rank_test_score\"]\n",
    "\n",
    "# add results to a dataframe\n",
    "cv_results = pd.DataFrame(model_random_search.cv_results_)\n",
    "# limit to selected columns\n",
    "cv_results = cv_results[column_results].sort_values(\n",
    "    \"mean_test_score\", ascending=False)\n",
    "# use the function we defined above to remove the headers from the parameter names\n",
    "cv_results = cv_results.rename(shorten_param, axis=1)\n",
    "cv_results"
   ]
  },
  {
   "cell_type": "code",
   "execution_count": 91,
   "id": "8d41b3a8",
   "metadata": {},
   "outputs": [
    {
     "name": "stdout",
     "output_type": "stream",
     "text": [
      "The difference between the top 2 results is 0.0001, and 3x the standard deviation of the top result is 0.0087\n"
     ]
    }
   ],
   "source": [
    "cv_results = cv_results.set_index(\"rank_test_score\")\n",
    "difference = cv_results[\"mean_test_score\"][1] - cv_results[\"mean_test_score\"][2]\n",
    "triple_std = 3 * cv_results[\"std_test_score\"][1]\n",
    "print(f'The difference between the top 2 results is {difference:.4f},'\n",
    "      f' and 3x the standard deviation of the top result is {triple_std:.4f}')"
   ]
  },
  {
   "cell_type": "markdown",
   "id": "5b91c778",
   "metadata": {},
   "source": [
    "Note that we only used 10 iterations (setting `n_iter=10` in `RandomisedSearchCV`) in this example, however in practice would use many more."
   ]
  },
  {
   "cell_type": "markdown",
   "id": "332fb3c2",
   "metadata": {},
   "source": [
    "<a id=\"3\" ></a>\n",
    "## 3) Interactive Exploration of Results"
   ]
  },
  {
   "cell_type": "markdown",
   "id": "265553ed",
   "metadata": {},
   "source": [
    "Here we will load results of the `RandomisedSearchCV` example above but with 200 iterations, to explore the results."
   ]
  },
  {
   "cell_type": "code",
   "execution_count": 98,
   "id": "411363b3",
   "metadata": {},
   "outputs": [
    {
     "data": {
      "text/html": [
       "<div>\n",
       "<style scoped>\n",
       "    .dataframe tbody tr th:only-of-type {\n",
       "        vertical-align: middle;\n",
       "    }\n",
       "\n",
       "    .dataframe tbody tr th {\n",
       "        vertical-align: top;\n",
       "    }\n",
       "\n",
       "    .dataframe thead th {\n",
       "        text-align: right;\n",
       "    }\n",
       "</style>\n",
       "<table border=\"1\" class=\"dataframe\">\n",
       "  <thead>\n",
       "    <tr style=\"text-align: right;\">\n",
       "      <th></th>\n",
       "      <th>mean_fit_time</th>\n",
       "      <th>std_fit_time</th>\n",
       "      <th>mean_score_time</th>\n",
       "      <th>std_score_time</th>\n",
       "      <th>l2_regularization</th>\n",
       "      <th>learning_rate</th>\n",
       "      <th>max_bins</th>\n",
       "      <th>max_leaf_nodes</th>\n",
       "      <th>min_samples_leaf</th>\n",
       "      <th>params</th>\n",
       "      <th>split0_test_score</th>\n",
       "      <th>split1_test_score</th>\n",
       "      <th>split2_test_score</th>\n",
       "      <th>split3_test_score</th>\n",
       "      <th>split4_test_score</th>\n",
       "      <th>mean_test_score</th>\n",
       "      <th>std_test_score</th>\n",
       "      <th>rank_test_score</th>\n",
       "    </tr>\n",
       "  </thead>\n",
       "  <tbody>\n",
       "    <tr>\n",
       "      <th>0</th>\n",
       "      <td>1.364790</td>\n",
       "      <td>0.256910</td>\n",
       "      <td>0.160201</td>\n",
       "      <td>0.027927</td>\n",
       "      <td>0.001741</td>\n",
       "      <td>0.011410</td>\n",
       "      <td>188</td>\n",
       "      <td>6</td>\n",
       "      <td>3</td>\n",
       "      <td>{'classifier__l2_regularization': 0.0017408272...</td>\n",
       "      <td>0.820527</td>\n",
       "      <td>0.815588</td>\n",
       "      <td>0.816953</td>\n",
       "      <td>0.815725</td>\n",
       "      <td>0.817363</td>\n",
       "      <td>0.817231</td>\n",
       "      <td>0.001785</td>\n",
       "      <td>65</td>\n",
       "    </tr>\n",
       "    <tr>\n",
       "      <th>1</th>\n",
       "      <td>1.165878</td>\n",
       "      <td>0.154081</td>\n",
       "      <td>0.156307</td>\n",
       "      <td>0.028429</td>\n",
       "      <td>0.000019</td>\n",
       "      <td>0.060289</td>\n",
       "      <td>244</td>\n",
       "      <td>3</td>\n",
       "      <td>7</td>\n",
       "      <td>{'classifier__l2_regularization': 1.9136604251...</td>\n",
       "      <td>0.835949</td>\n",
       "      <td>0.832378</td>\n",
       "      <td>0.833879</td>\n",
       "      <td>0.835244</td>\n",
       "      <td>0.837292</td>\n",
       "      <td>0.834949</td>\n",
       "      <td>0.001693</td>\n",
       "      <td>55</td>\n",
       "    </tr>\n",
       "    <tr>\n",
       "      <th>2</th>\n",
       "      <td>1.829658</td>\n",
       "      <td>0.135164</td>\n",
       "      <td>0.138959</td>\n",
       "      <td>0.018307</td>\n",
       "      <td>0.000004</td>\n",
       "      <td>0.001021</td>\n",
       "      <td>3</td>\n",
       "      <td>16</td>\n",
       "      <td>10</td>\n",
       "      <td>{'classifier__l2_regularization': 3.5014020335...</td>\n",
       "      <td>0.758974</td>\n",
       "      <td>0.758941</td>\n",
       "      <td>0.758941</td>\n",
       "      <td>0.758941</td>\n",
       "      <td>0.758941</td>\n",
       "      <td>0.758947</td>\n",
       "      <td>0.000013</td>\n",
       "      <td>119</td>\n",
       "    </tr>\n",
       "    <tr>\n",
       "      <th>3</th>\n",
       "      <td>7.492448</td>\n",
       "      <td>0.145101</td>\n",
       "      <td>0.175107</td>\n",
       "      <td>0.004313</td>\n",
       "      <td>2.283546</td>\n",
       "      <td>0.004012</td>\n",
       "      <td>149</td>\n",
       "      <td>131</td>\n",
       "      <td>3</td>\n",
       "      <td>{'classifier__l2_regularization': 2.2835460462...</td>\n",
       "      <td>0.758974</td>\n",
       "      <td>0.758941</td>\n",
       "      <td>0.758941</td>\n",
       "      <td>0.758941</td>\n",
       "      <td>0.758941</td>\n",
       "      <td>0.758947</td>\n",
       "      <td>0.000013</td>\n",
       "      <td>119</td>\n",
       "    </tr>\n",
       "    <tr>\n",
       "      <th>4</th>\n",
       "      <td>3.556846</td>\n",
       "      <td>0.219832</td>\n",
       "      <td>0.179252</td>\n",
       "      <td>0.021931</td>\n",
       "      <td>2.839202</td>\n",
       "      <td>0.005506</td>\n",
       "      <td>86</td>\n",
       "      <td>51</td>\n",
       "      <td>1</td>\n",
       "      <td>{'classifier__l2_regularization': 2.8392024301...</td>\n",
       "      <td>0.818070</td>\n",
       "      <td>0.811630</td>\n",
       "      <td>0.814360</td>\n",
       "      <td>0.811766</td>\n",
       "      <td>0.812312</td>\n",
       "      <td>0.813628</td>\n",
       "      <td>0.002427</td>\n",
       "      <td>71</td>\n",
       "    </tr>\n",
       "    <tr>\n",
       "      <th>...</th>\n",
       "      <td>...</td>\n",
       "      <td>...</td>\n",
       "      <td>...</td>\n",
       "      <td>...</td>\n",
       "      <td>...</td>\n",
       "      <td>...</td>\n",
       "      <td>...</td>\n",
       "      <td>...</td>\n",
       "      <td>...</td>\n",
       "      <td>...</td>\n",
       "      <td>...</td>\n",
       "      <td>...</td>\n",
       "      <td>...</td>\n",
       "      <td>...</td>\n",
       "      <td>...</td>\n",
       "      <td>...</td>\n",
       "      <td>...</td>\n",
       "      <td>...</td>\n",
       "    </tr>\n",
       "    <tr>\n",
       "      <th>195</th>\n",
       "      <td>1.294074</td>\n",
       "      <td>0.022162</td>\n",
       "      <td>0.131420</td>\n",
       "      <td>0.007018</td>\n",
       "      <td>0.000011</td>\n",
       "      <td>0.008725</td>\n",
       "      <td>11</td>\n",
       "      <td>10</td>\n",
       "      <td>13</td>\n",
       "      <td>{'classifier__l2_regularization': 1.1158823932...</td>\n",
       "      <td>0.789955</td>\n",
       "      <td>0.792383</td>\n",
       "      <td>0.788971</td>\n",
       "      <td>0.790609</td>\n",
       "      <td>0.793066</td>\n",
       "      <td>0.790997</td>\n",
       "      <td>0.001519</td>\n",
       "      <td>99</td>\n",
       "    </tr>\n",
       "    <tr>\n",
       "      <th>196</th>\n",
       "      <td>1.403853</td>\n",
       "      <td>0.056955</td>\n",
       "      <td>0.135619</td>\n",
       "      <td>0.009969</td>\n",
       "      <td>0.000001</td>\n",
       "      <td>0.007010</td>\n",
       "      <td>4</td>\n",
       "      <td>10</td>\n",
       "      <td>23</td>\n",
       "      <td>{'classifier__l2_regularization': 1.1417666366...</td>\n",
       "      <td>0.773987</td>\n",
       "      <td>0.775184</td>\n",
       "      <td>0.775594</td>\n",
       "      <td>0.774775</td>\n",
       "      <td>0.772591</td>\n",
       "      <td>0.774426</td>\n",
       "      <td>0.001060</td>\n",
       "      <td>111</td>\n",
       "    </tr>\n",
       "    <tr>\n",
       "      <th>197</th>\n",
       "      <td>0.869013</td>\n",
       "      <td>0.104602</td>\n",
       "      <td>0.085430</td>\n",
       "      <td>0.006067</td>\n",
       "      <td>8.910140</td>\n",
       "      <td>0.756816</td>\n",
       "      <td>61</td>\n",
       "      <td>50</td>\n",
       "      <td>75</td>\n",
       "      <td>{'classifier__l2_regularization': 8.9101403086...</td>\n",
       "      <td>0.856148</td>\n",
       "      <td>0.857494</td>\n",
       "      <td>0.858040</td>\n",
       "      <td>0.853945</td>\n",
       "      <td>0.854218</td>\n",
       "      <td>0.855969</td>\n",
       "      <td>0.001662</td>\n",
       "      <td>19</td>\n",
       "    </tr>\n",
       "    <tr>\n",
       "      <th>198</th>\n",
       "      <td>0.968748</td>\n",
       "      <td>0.035448</td>\n",
       "      <td>0.125690</td>\n",
       "      <td>0.006516</td>\n",
       "      <td>0.000107</td>\n",
       "      <td>0.005116</td>\n",
       "      <td>121</td>\n",
       "      <td>4</td>\n",
       "      <td>12</td>\n",
       "      <td>{'classifier__l2_regularization': 0.0001068448...</td>\n",
       "      <td>0.762386</td>\n",
       "      <td>0.762217</td>\n",
       "      <td>0.762626</td>\n",
       "      <td>0.762490</td>\n",
       "      <td>0.761671</td>\n",
       "      <td>0.762278</td>\n",
       "      <td>0.000332</td>\n",
       "      <td>117</td>\n",
       "    </tr>\n",
       "    <tr>\n",
       "      <th>199</th>\n",
       "      <td>0.367536</td>\n",
       "      <td>0.016766</td>\n",
       "      <td>0.070402</td>\n",
       "      <td>0.002576</td>\n",
       "      <td>0.000362</td>\n",
       "      <td>2.184224</td>\n",
       "      <td>43</td>\n",
       "      <td>8</td>\n",
       "      <td>1</td>\n",
       "      <td>{'classifier__l2_regularization': 0.0003622440...</td>\n",
       "      <td>0.762386</td>\n",
       "      <td>0.243926</td>\n",
       "      <td>0.641551</td>\n",
       "      <td>0.542725</td>\n",
       "      <td>0.732323</td>\n",
       "      <td>0.584582</td>\n",
       "      <td>0.186808</td>\n",
       "      <td>196</td>\n",
       "    </tr>\n",
       "  </tbody>\n",
       "</table>\n",
       "<p>200 rows × 18 columns</p>\n",
       "</div>"
      ],
      "text/plain": [
       "     mean_fit_time  std_fit_time  mean_score_time  std_score_time  \\\n",
       "0         1.364790      0.256910         0.160201        0.027927   \n",
       "1         1.165878      0.154081         0.156307        0.028429   \n",
       "2         1.829658      0.135164         0.138959        0.018307   \n",
       "3         7.492448      0.145101         0.175107        0.004313   \n",
       "4         3.556846      0.219832         0.179252        0.021931   \n",
       "..             ...           ...              ...             ...   \n",
       "195       1.294074      0.022162         0.131420        0.007018   \n",
       "196       1.403853      0.056955         0.135619        0.009969   \n",
       "197       0.869013      0.104602         0.085430        0.006067   \n",
       "198       0.968748      0.035448         0.125690        0.006516   \n",
       "199       0.367536      0.016766         0.070402        0.002576   \n",
       "\n",
       "     l2_regularization  learning_rate  max_bins  max_leaf_nodes  \\\n",
       "0             0.001741       0.011410       188               6   \n",
       "1             0.000019       0.060289       244               3   \n",
       "2             0.000004       0.001021         3              16   \n",
       "3             2.283546       0.004012       149             131   \n",
       "4             2.839202       0.005506        86              51   \n",
       "..                 ...            ...       ...             ...   \n",
       "195           0.000011       0.008725        11              10   \n",
       "196           0.000001       0.007010         4              10   \n",
       "197           8.910140       0.756816        61              50   \n",
       "198           0.000107       0.005116       121               4   \n",
       "199           0.000362       2.184224        43               8   \n",
       "\n",
       "     min_samples_leaf                                             params  \\\n",
       "0                   3  {'classifier__l2_regularization': 0.0017408272...   \n",
       "1                   7  {'classifier__l2_regularization': 1.9136604251...   \n",
       "2                  10  {'classifier__l2_regularization': 3.5014020335...   \n",
       "3                   3  {'classifier__l2_regularization': 2.2835460462...   \n",
       "4                   1  {'classifier__l2_regularization': 2.8392024301...   \n",
       "..                ...                                                ...   \n",
       "195                13  {'classifier__l2_regularization': 1.1158823932...   \n",
       "196                23  {'classifier__l2_regularization': 1.1417666366...   \n",
       "197                75  {'classifier__l2_regularization': 8.9101403086...   \n",
       "198                12  {'classifier__l2_regularization': 0.0001068448...   \n",
       "199                 1  {'classifier__l2_regularization': 0.0003622440...   \n",
       "\n",
       "     split0_test_score  split1_test_score  split2_test_score  \\\n",
       "0             0.820527           0.815588           0.816953   \n",
       "1             0.835949           0.832378           0.833879   \n",
       "2             0.758974           0.758941           0.758941   \n",
       "3             0.758974           0.758941           0.758941   \n",
       "4             0.818070           0.811630           0.814360   \n",
       "..                 ...                ...                ...   \n",
       "195           0.789955           0.792383           0.788971   \n",
       "196           0.773987           0.775184           0.775594   \n",
       "197           0.856148           0.857494           0.858040   \n",
       "198           0.762386           0.762217           0.762626   \n",
       "199           0.762386           0.243926           0.641551   \n",
       "\n",
       "     split3_test_score  split4_test_score  mean_test_score  std_test_score  \\\n",
       "0             0.815725           0.817363         0.817231        0.001785   \n",
       "1             0.835244           0.837292         0.834949        0.001693   \n",
       "2             0.758941           0.758941         0.758947        0.000013   \n",
       "3             0.758941           0.758941         0.758947        0.000013   \n",
       "4             0.811766           0.812312         0.813628        0.002427   \n",
       "..                 ...                ...              ...             ...   \n",
       "195           0.790609           0.793066         0.790997        0.001519   \n",
       "196           0.774775           0.772591         0.774426        0.001060   \n",
       "197           0.853945           0.854218         0.855969        0.001662   \n",
       "198           0.762490           0.761671         0.762278        0.000332   \n",
       "199           0.542725           0.732323         0.584582        0.186808   \n",
       "\n",
       "     rank_test_score  \n",
       "0                 65  \n",
       "1                 55  \n",
       "2                119  \n",
       "3                119  \n",
       "4                 71  \n",
       "..               ...  \n",
       "195               99  \n",
       "196              111  \n",
       "197               19  \n",
       "198              117  \n",
       "199              196  \n",
       "\n",
       "[200 rows x 18 columns]"
      ]
     },
     "execution_count": 98,
     "metadata": {},
     "output_type": "execute_result"
    }
   ],
   "source": [
    "# load results\n",
    "cv_results = pd.read_csv(\"figures/randomized_search_results.csv\", index_col=0)\n",
    "\n",
    "# using the function created above, remove the headers from the parameter names\n",
    "cv_results = cv_results.rename(shorten_param, axis=1)\n",
    "cv_results"
   ]
  },
  {
   "cell_type": "code",
   "execution_count": 99,
   "id": "a635d5e8",
   "metadata": {},
   "outputs": [
    {
     "data": {
      "application/vnd.plotly.v1+json": {
       "config": {
        "plotlyServerURL": "https://plot.ly"
       },
       "data": [
        {
         "dimensions": [
          {
           "label": "learning_rate",
           "values": [
            -1.9427016809707103,
            -1.2197645982306449,
            -2.9911108503060455,
            -2.396613770884706,
            -2.2591382798969306,
            -0.9275079727900775,
            -1.2736042864340078,
            -2.435632232944012,
            -1.7790949458373246,
            -2.3489133518857575,
            -1.385062489574429,
            0.25847463326307984,
            -2.773910603667594,
            -1.3022906324231662,
            0.12513939679279187,
            0.8711124572063,
            0.3087752310108489,
            -1.9347944531384997,
            -1.1293959623372603,
            -1.8214988530356888,
            -1.4158899982239699,
            -1.2159436392881033,
            -2.939624859191476,
            -0.3469622439494633,
            -2.184973294713804,
            -2.930530939374143,
            -1.3609572136627515,
            -2.545309255364725,
            -1.522326685366044,
            0.11628575477377637,
            0.4392309166486186,
            -0.6633558948224514,
            0.4810553592144555,
            0.8580015461422099,
            -1.778891372775154,
            -0.030036990021095313,
            -2.9404410002104044,
            -0.4947049081882659,
            -0.005525342392880722,
            0.055358647273440226,
            -2.1894158054550243,
            0.2494245495559726,
            -2.196984205875634,
            -1.8599363757350096,
            -1.6796003017293213,
            -1.0314600618851244,
            -0.013746175261447406,
            0.060157402738239885,
            -2.4530617695752497,
            0.1907775019357652,
            0.06122070614740506,
            0.7379568233026781,
            -2.241169666093336,
            0.16689319998897692,
            -0.7763270866315914,
            -2.5576099247261217,
            -2.9842775417802216,
            -2.8075536587253156,
            -2.2422745990032116,
            0.11224381664883465,
            -2.4436685238248663,
            -1.1755747870920692,
            -0.06109606626900856,
            -0.04745022124209355,
            -2.4522998481077436,
            0.47066371337287904,
            -0.48779448926615615,
            -1.0086011017475938,
            0.23103910400374472,
            -0.7590241256092792,
            -2.296925413867112,
            -2.4853208383246748,
            -0.7587937912802707,
            -2.357860174155114,
            -0.6266899826341984,
            -2.832442705903225,
            -0.25765648042578077,
            -1.8233829619333393,
            -2.9371811934030116,
            -2.660182459586523,
            0.15343120674305455,
            -2.1219012876544903,
            -0.7710756509027616,
            -1.3477091150263036,
            -2.2903852648996743,
            -1.414470338058604,
            -1.1277927665675624,
            -1.3608804455150254,
            -2.4445141408046416,
            -1.54909175277509,
            -1.4772602949743807,
            0.3523873245294911,
            0.7802466444685141,
            -0.9492037718702784,
            -2.3661195352876123,
            -1.0691357063113445,
            0.795021754462061,
            0.41196987527049433,
            -2.2898219344999013,
            0.3774626405956977,
            -0.16644041409936872,
            -2.979510602885646,
            -2.8324800328627973,
            -2.1103160982337483,
            0.1031830689375134,
            -0.9923823602298373,
            -1.9792311198007702,
            -1.619450701510882,
            -2.884909237127286,
            0.5229817910757699,
            -1.0279615047208717,
            0.6991897461319536,
            -2.2000517353336457,
            -2.6690797352762887,
            0.9010014116453262,
            -2.9584660002189223,
            -1.5122832356461133,
            -2.3598641412153984,
            -2.0428730950776455,
            -0.5478810157613889,
            0.5362586902643649,
            0.5111933244222211,
            -1.6836556148937396,
            -0.5965885970197992,
            -0.8772043193820154,
            0.5506872039702713,
            -2.5470286868824616,
            -2.0830224690704062,
            -2.2784627831249864,
            -1.7201494309256598,
            0.2394378436741227,
            -0.31838221237329734,
            -0.1315128980818039,
            0.36174277531216736,
            -1.5331533178132466,
            0.2850393020513024,
            -0.4982195575595854,
            -2.939089074618765,
            -0.7227269348691161,
            0.7281029739249085,
            0.11442713849928234,
            0.791153653389284,
            0.39116200707260207,
            0.8559897380328629,
            -1.7022092021889905,
            -2.8867329777633466,
            -1.7463289562906519,
            -1.7111182524754378,
            -2.7936504394780006,
            0.454836108274153,
            -1.9133849094090485,
            0.7885127641437024,
            -0.17767696011201423,
            -1.5503357680096503,
            -2.1899519341771323,
            -2.9838596088258664,
            -1.712972552499639,
            -0.6433949409354711,
            -1.772041929071524,
            -2.6187392613941234,
            -1.8424470013044578,
            -2.808910077445238,
            -1.4419321375158254,
            -2.282634323787334,
            -2.49978571701464,
            -1.8002309328306716,
            -2.9669032507508906,
            0.8940925151628107,
            -2.777581313096136,
            0.7642717384477669,
            -1.820255364725286,
            -2.024272923608782,
            -0.25089472330922197,
            -0.4395835997501418,
            -1.5854162245937975,
            -2.7199910292356413,
            -0.4622366226382191,
            -0.22841787469375155,
            -2.5435979963387743,
            -2.437943504492412,
            0.5524702349902736,
            -1.1457011075046484,
            -2.661872035181477,
            -2.4143284205652598,
            -2.970412984991308,
            -2.270531214758075,
            -1.1280833800495913,
            -2.268924711471806,
            0.42262033708970037,
            -0.06191612234840081,
            0.030808142843158637,
            0.9155804517800292,
            -1.3112155711980384,
            -1.649340785196063,
            -1.6042447614743756,
            -2.0592434206741883,
            -2.154251672617906,
            -0.12100979945048701,
            -2.291049370610316,
            0.33929714180195214
           ]
          },
          {
           "label": "max_leaf_nodes",
           "values": [
            2.584962500721156,
            1.584962500721156,
            4,
            7.03342300153745,
            5.672425341971495,
            2.807354922057604,
            3.4594316186372973,
            4.700439718141092,
            1.584962500721156,
            4.754887502163468,
            1,
            4.754887502163468,
            2.584962500721156,
            4.906890595608519,
            7.971543553950772,
            4.392317422778761,
            2.584962500721156,
            3.321928094887362,
            2.807354922057604,
            5.426264754702098,
            4.807354922057604,
            5.321928094887363,
            3,
            1,
            4.906890595608519,
            2.807354922057604,
            6.303780748177103,
            1.584962500721156,
            6.169925001442312,
            4.857980995127572,
            6.442943495848728,
            4.857980995127572,
            4.392317422778761,
            4,
            1.584962500721156,
            5.832890014164741,
            4,
            6.918863237274595,
            1.584962500721156,
            3.169925001442312,
            3.700439718141092,
            4.392317422778761,
            3.584962500721156,
            6.930737337562887,
            4.584962500721156,
            6.584962500721156,
            4.523561956057013,
            4.700439718141092,
            2,
            3.700439718141092,
            5.882643049361842,
            6.339850002884624,
            4.700439718141092,
            4.247927513443585,
            3.321928094887362,
            3.584962500721156,
            5.169925001442312,
            4.247927513443585,
            3.321928094887362,
            2,
            2.321928094887362,
            6.6865005271832185,
            5.044394119358453,
            1,
            4.321928094887363,
            1,
            2,
            1.584962500721156,
            3.321928094887362,
            1.584962500721156,
            5.321928094887363,
            4.700439718141092,
            5.882643049361842,
            2.321928094887362,
            7.321928094887363,
            7.434628227636725,
            2,
            1,
            7.434628227636725,
            4,
            1,
            6.321928094887363,
            7.965784284662087,
            6.894817763307944,
            1,
            6.845490050944375,
            2.321928094887362,
            5.857980995127572,
            7.044394119358453,
            5.754887502163468,
            6.727920454563199,
            4.700439718141092,
            1.584962500721156,
            5.357552004618084,
            6.149747119504682,
            6.475733430966398,
            2.584962500721156,
            5.857980995127572,
            6.832890014164741,
            7.906890595608519,
            5.523561956057013,
            5.857980995127572,
            7.442943495848728,
            2,
            6.409390936137702,
            6.727920454563199,
            7.813781191217037,
            2,
            4.392317422778761,
            1,
            3.169925001442312,
            6.409390936137702,
            1,
            2,
            3.700439718141092,
            7.651051691178929,
            1,
            1,
            4.643856189774724,
            1,
            7.409390936137702,
            1,
            1.584962500721156,
            2.584962500721156,
            3.807354922057604,
            4.807354922057604,
            7.149747119504682,
            4.523561956057013,
            6.977279923499917,
            2,
            2,
            2.321928094887362,
            7.417852514885898,
            6.807354922057604,
            7.876516946564999,
            6.108524456778169,
            2.807354922057604,
            7.727920454563199,
            6.807354922057604,
            5.491853096329675,
            3.9068905956085187,
            1,
            6.247927513443585,
            7.9886846867721655,
            2,
            1,
            1,
            5.906890595608519,
            7.451211111832329,
            5.247927513443585,
            7.05528243550119,
            1,
            2.584962500721156,
            4.584962500721156,
            6.918863237274595,
            7.870364719583405,
            6.066089190457772,
            2,
            1.584962500721156,
            7.098032082960526,
            1.584962500721156,
            7.348728154231077,
            3.169925001442312,
            7.851749041416057,
            5.832890014164741,
            1.584962500721156,
            6.930737337562887,
            6.807354922057604,
            6.066089190457772,
            6.906890595608519,
            7.948367231584678,
            6.409390936137702,
            7.900866807980749,
            4.584962500721156,
            6.22881869049588,
            7.312882955284356,
            5.169925001442312,
            7.562242424221073,
            3.584962500721156,
            2.321928094887362,
            2.584962500721156,
            3,
            7.321928094887363,
            5,
            1,
            2.807354922057604,
            2.321928094887362,
            3.700439718141092,
            1.584962500721156,
            6.807354922057604,
            2.321928094887362,
            5.727920454563199,
            7.6865005271832185,
            5.169925001442312,
            7.266786540694901,
            3.321928094887362,
            3.321928094887362,
            5.643856189774724,
            2,
            3
           ]
          },
          {
           "label": "max_bins",
           "values": [
            7.554588851677638,
            7.930737337562887,
            1.584962500721156,
            7.219168520462161,
            6.426264754702098,
            4.906890595608519,
            1.584962500721156,
            6.409390936137702,
            5.906890595608519,
            4.523561956057013,
            3,
            6.554588851677638,
            6.906890595608519,
            5.20945336562895,
            4.087462841250339,
            7.636624620543649,
            5.832890014164741,
            3.169925001442312,
            2.584962500721156,
            6.599912842187128,
            1,
            6.066089190457772,
            6.285402218862249,
            6.768184324776926,
            3,
            7.851749041416057,
            7.9886846867721655,
            1.584962500721156,
            1,
            7.672425341971495,
            6.149747119504682,
            2,
            1,
            4,
            3.9068905956085187,
            1.584962500721156,
            4.700439718141092,
            5.882643049361842,
            2,
            5.087462841250339,
            5.614709844115208,
            7.392317422778761,
            5.087462841250339,
            3.9068905956085187,
            4.643856189774724,
            2.321928094887362,
            1.584962500721156,
            4.584962500721156,
            2.321928094887362,
            4.169925001442312,
            5.129283016944966,
            6.78135971352466,
            6.794415866350106,
            7.108524456778169,
            4.169925001442312,
            2,
            7.285402218862249,
            5.930737337562887,
            4.584962500721156,
            3.807354922057604,
            1,
            2.807354922057604,
            2.807354922057604,
            6.768184324776926,
            6.741466986401147,
            5.247927513443585,
            4.906890595608519,
            4.700439718141092,
            7.857980995127572,
            1.584962500721156,
            1,
            1.584962500721156,
            7.954196310386875,
            6.714245517666122,
            6.491853096329675,
            1.584962500721156,
            6.22881869049588,
            6.906890595608519,
            7.129283016944966,
            6,
            7.754887502163468,
            1.584962500721156,
            4.954196310386875,
            4.459431618637297,
            6.149747119504682,
            2.584962500721156,
            6.321928094887363,
            3,
            2.807354922057604,
            2.321928094887362,
            3.9068905956085187,
            4.523561956057013,
            2.807354922057604,
            4.523561956057013,
            5.285402218862249,
            2,
            2,
            5.554588851677638,
            3.584962500721156,
            6.475733430966398,
            5,
            3.584962500721156,
            5.700439718141092,
            2,
            3.169925001442312,
            7.622051819456376,
            6.9886846867721655,
            1,
            7.800899899920305,
            7.022367813028454,
            3,
            1.584962500721156,
            2,
            7.614709844115208,
            4.087462841250339,
            5.977279923499917,
            6.20945336562895,
            5.044394119358453,
            5.426264754702098,
            6.22881869049588,
            4.247927513443585,
            3,
            3.321928094887362,
            1.584962500721156,
            5.832890014164741,
            6.6865005271832185,
            5.857980995127572,
            7.622051819456376,
            1.584962500721156,
            1.584962500721156,
            2.584962500721156,
            6.149747119504682,
            3,
            4.087462841250339,
            6.584962500721156,
            3.584962500721156,
            1,
            7.7481928495894605,
            3.807354922057604,
            7.011227255423254,
            5.087462841250339,
            3.700439718141092,
            1,
            2.584962500721156,
            6.523561956057013,
            5.044394119358453,
            1,
            7.189824558880018,
            1,
            4.807354922057604,
            6.189824558880018,
            3,
            6.820178962415188,
            7.636624620543649,
            1.584962500721156,
            4.643856189774724,
            7.022367813028454,
            1.584962500721156,
            1.584962500721156,
            7.348728154231077,
            5.392317422778761,
            5.087462841250339,
            5.426264754702098,
            3.700439718141092,
            5.832890014164741,
            4.321928094887363,
            6.149747119504682,
            3,
            5.392317422778761,
            4.247927513443585,
            1.584962500721156,
            2.584962500721156,
            1.584962500721156,
            6.918863237274595,
            5.882643049361842,
            6.491853096329675,
            7.05528243550119,
            7.651051691178929,
            5.491853096329675,
            2,
            1.584962500721156,
            6.442943495848728,
            6.507794640198696,
            6.22881869049588,
            4.247927513443585,
            4.906890595608519,
            1.584962500721156,
            3.807354922057604,
            1.584962500721156,
            1.584962500721156,
            3.700439718141092,
            4.857980995127572,
            3.169925001442312,
            4.321928094887363,
            2.584962500721156,
            3.4594316186372973,
            2,
            5.930737337562887,
            6.918863237274595,
            5.426264754702098
           ]
          },
          {
           "label": "min_samples_leaf",
           "values": [
            0.47712125471966244,
            0.8450980400142568,
            1,
            0.47712125471966244,
            0,
            0,
            1.8920946026904804,
            1.1139433523068367,
            0.8450980400142568,
            1.0791812460476249,
            0,
            0,
            0.6989700043360189,
            1.3617278360175928,
            0.7781512503836436,
            0.6989700043360189,
            1.0791812460476249,
            1.9493900066449128,
            0.6020599913279624,
            0,
            0,
            1.6812412373755872,
            1,
            0,
            1.1760912590556813,
            0.6020599913279624,
            1.7558748556724915,
            0.3010299956639812,
            1.4913616938342726,
            1.5185139398778875,
            0,
            1.8920946026904804,
            0.47712125471966244,
            1.662757831681574,
            1.0413926851582251,
            0.6020599913279624,
            1.2041199826559248,
            0.47712125471966244,
            0.6989700043360189,
            0.47712125471966244,
            1.0791812460476249,
            1,
            0.3010299956639812,
            1.8692317197309762,
            1,
            1.4313637641589874,
            0.6989700043360189,
            0.6020599913279624,
            0,
            0.47712125471966244,
            0,
            1.7993405494535817,
            1.146128035678238,
            0.3010299956639812,
            1,
            0,
            0.3010299956639812,
            1.919078092376074,
            0.47712125471966244,
            1.6989700043360187,
            1.2041199826559248,
            1.462397997898956,
            0,
            1.5185139398778875,
            0.6020599913279624,
            0.3010299956639812,
            0,
            1.3222192947339193,
            0.9542425094393249,
            1.146128035678238,
            0,
            0.6020599913279624,
            0.8450980400142568,
            0,
            1.1760912590556813,
            1.9084850188786497,
            0,
            0,
            0.6989700043360189,
            1.1760912590556813,
            0,
            0,
            1.4313637641589874,
            1.7708520116421442,
            0,
            1.0413926851582251,
            0,
            1.5797835966168101,
            1.8325089127062364,
            0.3010299956639812,
            0,
            0.9030899869919435,
            0.3010299956639812,
            1.9294189257142926,
            1.414973347970818,
            1.9395192526186185,
            1.505149978319906,
            1.4771212547196624,
            0.6020599913279624,
            0,
            1.7993405494535817,
            0.47712125471966244,
            1.505149978319906,
            1.1139433523068367,
            0,
            1.9084850188786497,
            0.47712125471966244,
            1.3979400086720377,
            0,
            1.845098040014257,
            0.6020599913279624,
            0,
            0,
            0,
            0.3010299956639812,
            1,
            1.5314789170422551,
            1.5797835966168101,
            1,
            1.7403626894942439,
            1.0791812460476249,
            1.4471580313422192,
            0.9542425094393249,
            1.2787536009528289,
            1.462397997898956,
            0,
            1.954242509439325,
            0.6020599913279624,
            1.0791812460476249,
            1.3617278360175928,
            0,
            0,
            0.47712125471966244,
            1.380211241711606,
            1.8750612633917,
            1.8976270912904414,
            1.9138138523837167,
            0.8450980400142568,
            1.5440680443502757,
            0,
            0.9030899869919435,
            0,
            1.4771212547196624,
            0,
            1.7075701760979363,
            0.6989700043360189,
            0.3010299956639812,
            0.8450980400142568,
            1.591064607026499,
            1.146128035678238,
            1.1760912590556813,
            1.1139433523068367,
            0,
            0,
            1.4913616938342726,
            1.9867717342662448,
            0.6020599913279624,
            0.7781512503836436,
            0,
            0,
            1,
            1.0413926851582251,
            1.7993405494535817,
            1.8920946026904804,
            0.47712125471966244,
            0.3010299956639812,
            1.8195439355418688,
            0,
            1.5563025007672873,
            0,
            0.6020599913279624,
            1.7853298350107671,
            1.4471580313422192,
            1.5314789170422551,
            1.3010299956639813,
            0.47712125471966244,
            1.6901960800285136,
            0.6020599913279624,
            1.146128035678238,
            1.3222192947339193,
            0.47712125471966244,
            0.3010299956639812,
            0.8450980400142568,
            0.47712125471966244,
            0.47712125471966244,
            0.6989700043360189,
            1.380211241711606,
            1.8325089127062364,
            0,
            0.7781512503836436,
            1.3222192947339193,
            1.968482948553935,
            1.0791812460476249,
            0,
            1.462397997898956,
            1.1139433523068367,
            1.3617278360175928,
            1.8750612633917,
            1.0791812460476249,
            0
           ]
          },
          {
           "label": "l2_regularization",
           "values": [
            -2.759244330347109,
            -4.718135124332669,
            -5.455758020357239,
            0.3586097733068906,
            0.45319635805719166,
            0.3769071330599284,
            -1.9506851574609059,
            1.9002156335755773,
            0.7373679429054565,
            -1.0800698237158646,
            -4.746498757760878,
            -4.002024446431074,
            2.9253772328388705,
            -1.6081965340198165,
            -4.329449363554857,
            -1.2530060181438694,
            -4.679181080345356,
            -5.904666604913207,
            -3.0962307839957366,
            -4.43179496274286,
            -2.1914607743268415,
            -2.5561375507589035,
            -4.742755496915934,
            -5.529019424856824,
            0.49898075942697145,
            -0.620761311057586,
            -4.362334592564697,
            1.8587921508818883,
            1.368309425391751,
            0.790434221512036,
            -5.0708757787278715,
            -0.03997964322110309,
            -1.5389858308014157,
            -1.8135318304745496,
            -2.908164396107222,
            -3.295099401427179,
            0.5396071367169389,
            1.451398203533801,
            -1.404637896473056,
            -4.679805248794614,
            -4.809486456565149,
            -5.086882004346305,
            -3.9224565486105654,
            2.4765379742408324,
            -3.9104473673484117,
            -4.979663270278797,
            -1.577361143352489,
            2.095845898165156,
            -3.852487670039714,
            1.2465758794015924,
            2.7408665333578277,
            1.887484699279868,
            -0.9701825127286756,
            -1.5570662068085814,
            -1.4374501957457178,
            1.7586428861996524,
            0.7233491576439853,
            -0.2871441817644477,
            -5.922813950915569,
            -1.2913439494416834,
            2.06088107121411,
            -2.115567875662323,
            -0.10429991690132326,
            1.0935144809157538,
            -1.8045622490997728,
            -2.777911677204568,
            2.734980486291172,
            -2.272567741335918,
            1.556192384177649,
            -4.165636902572127,
            -3.085329903850145,
            2.800132441067505,
            -4.570482511790685,
            -3.208004200719868,
            -1.679416531218776,
            2.90586876954389,
            -3.240962653001915,
            -5.496959532005615,
            -2.2543105510776686,
            0.666842172422079,
            -1.2122136212469588,
            0.8766772984502137,
            1.6154481862499919,
            -5.979459498401439,
            2.327529180301681,
            -0.9406676301514096,
            2.377250247224262,
            -5.227796024529544,
            -1.1528325617312254,
            -1.6311237642136909,
            2.1384197911493543,
            -3.7374062997984985,
            1.1390291392371996,
            -2.221414073392048,
            0.47893013474039553,
            1.4501723482839988,
            2.738410315549629,
            -0.1679714806113212,
            -1.3088890331486032,
            -0.7991644739814047,
            -3.7863560610297835,
            -2.5779315179512263,
            0.6314963504338458,
            -1.5298375509658713,
            -4.273187945825145,
            0.3562576680438033,
            0.09914190615031926,
            -3.4613114740723665,
            -2.3018772384359933,
            -3.898857555724065,
            -2.944202383492643,
            -2.123047378216131,
            -4.961744339374495,
            2.8510358578360173,
            -2.707934662950803,
            -0.7895158718255055,
            -2.031423836834261,
            -5.844907460360145,
            2.3026276671462007,
            1.6329563819511665,
            -4.746251380341423,
            -0.7462321725082732,
            -1.3381581079497593,
            -3.5095786069323123,
            -3.346776188401886,
            1.8740570308067486,
            2.6773937567041215,
            -1.461312802567365,
            -1.334375635887763,
            1.7581691372584867,
            -3.738060693083701,
            -2.9722654165907034,
            0.3413643900810774,
            -0.11204292966382645,
            -2.5485705761534847,
            0.38906222505988586,
            -5.427221757146599,
            -2.8516442398646085,
            -3.054575615744059,
            -0.9679857335367226,
            -1.5412519018488162,
            -5.9805857959601765,
            -4.531616702876308,
            -0.8191583791356034,
            0.42279403904087737,
            -0.31793832893282925,
            -2.5853936610992636,
            -2.7975583158977315,
            2.970053644675267,
            -3.376663315205386,
            0.3563076470835281,
            2.6034553392948965,
            -4.416678885673996,
            1.3995887957803201,
            2.6395324325348892,
            0.5661104522456413,
            -0.5508430072680566,
            2.036202305973629,
            -0.30796642492365556,
            -5.190222657213638,
            -0.24584173085046818,
            -2.5856636508017328,
            -5.302384242599491,
            -2.8236089545468395,
            1.8569911809190744,
            -4.8181991751312525,
            -5.544050577847155,
            0.4485456261068239,
            -0.14894678507492884,
            2.9077455071493805,
            -3.214895778741445,
            -1.0118495096686284,
            -3.2417517958100497,
            -5.346630415032059,
            0.5214836620433533,
            -3.1427953304002494,
            -4.747471674968838,
            -1.441224263392273,
            1.3584608780406695,
            -0.519247117253902,
            -1.4013865366083873,
            -2.163507015756679,
            -0.5170897371463458,
            -5.376034732426774,
            -1.504606386986423,
            2.527478895818193,
            -5.354148348089658,
            1.0868512085702196,
            -0.9424743035214121,
            -0.864084576704563,
            -1.649903457938822,
            0.7768788279635144,
            -4.99786736090813,
            -1.9715356702031583,
            2.8643045147657604,
            -4.95238157480477,
            -5.942422651565778,
            0.9498845429596459,
            -3.9712463469251236,
            -3.4409987355962435
           ]
          },
          {
           "label": "mean_test_score",
           "values": [
            0.8172312168490686,
            0.8349485135345652,
            0.7589473389664464,
            0.7589473389664464,
            0.8136276803125446,
            0.855013530596989,
            0.8072943832326935,
            0.7589473389664464,
            0.7941906011375097,
            0.7887853783035986,
            0.7856732832439125,
            0.7555108255394867,
            0.7589473389664464,
            0.8562693728382278,
            0.7966474172970692,
            0.7608856744382881,
            0.7017003926516687,
            0.796483721459837,
            0.8325190756472317,
            0.8546859638029284,
            0.802953712425529,
            0.8594633791576605,
            0.7589473389664464,
            0.8557780096063159,
            0.7849908682582355,
            0.7589473389664464,
            0.8676805010775258,
            0.7589473389664464,
            0.8011246441299669,
            0.8576615289185237,
            0.6132197634313099,
            0.8150201046611583,
            0.727006422529829,
            0.5863294228382259,
            0.7875568174599156,
            0.8004694211190732,
            0.7589473389664464,
            0.8558051121583263,
            0.8155933679749703,
            0.8496083599263619,
            0.796156091324646,
            0.74526951110819,
            0.8081405648486311,
            0.7779475357338057,
            0.8495810114617266,
            0.828533212046246,
            0.80491928458354,
            0.8531571920817178,
            0.7589473389664464,
            0.8423467762214862,
            0.8546040599950795,
            0.770303904410633,
            0.8144466811315454,
            0.8503181829918557,
            0.8550135827602731,
            0.7589473389664464,
            0.7589473389664464,
            0.7589473389664464,
            0.7993229317509377,
            0.839480500637864,
            0.7589473389664464,
            0.8398624215738997,
            0.8341841463037042,
            0.8561601429214367,
            0.7589473389664464,
            0.7165242851198903,
            0.8519833989603336,
            0.8475608616048087,
            0.8312361159501872,
            0.8077311315062101,
            0.7589473389664464,
            0.7589473389664464,
            0.8679260932707091,
            0.7589473389664464,
            0.8572794738483287,
            0.7589473389664464,
            0.8546859414472353,
            0.7904506054499231,
            0.7589473389664464,
            0.7589473389664464,
            0.6769689264434727,
            0.7819605838576769,
            0.8527203432075823,
            0.8526657766865219,
            0.7589473389664464,
            0.8303896958735228,
            0.8494718188044242,
            0.8442303812305176,
            0.7589473389664464,
            0.8285059902638722,
            0.8451858672822231,
            0.7270322396294827,
            0.2858235321317073,
            0.854986282732973,
            0.7589473389664464,
            0.8148836045246582,
            0.6044945823026893,
            0.7365350672707026,
            0.7730883059939972,
            0.7737705570379243,
            0.8508640717593904,
            0.7589473389664464,
            0.7589473389664464,
            0.7589473389664464,
            0.8194423253110301,
            0.8669433668068853,
            0.8553684123221451,
            0.7918974882670802,
            0.7589473389664464,
            0.6015396701216272,
            0.8450220782962697,
            0.6759582702669914,
            0.7589473389664464,
            0.7589473389664464,
            0.3818883339833251,
            0.7589473389664464,
            0.7944362641237214,
            0.7589473389664464,
            0.7589473389664464,
            0.8490350519011635,
            0.6726325963667305,
            0.6015396701216272,
            0.7864649132425848,
            0.8092325808444274,
            0.8581530002029526,
            0.7867100024326721,
            0.7589473389664464,
            0.828150978130506,
            0.7677922907211838,
            0.7917336396659448,
            0.8069939264425413,
            0.8553411756359756,
            0.8338292906601901,
            0.7577457912520011,
            0.8597910092928519,
            0.7830522831478202,
            0.8027079823722378,
            0.7589473389664464,
            0.8448308514229081,
            0.737543342565862,
            0.8399443551893395,
            0.2834757148801096,
            0.6873977604290147,
            0.7414762790632861,
            0.8145831924458922,
            0.7589473389664464,
            0.7589473389664464,
            0.8658513955224751,
            0.7589473389664464,
            0.5921466760009138,
            0.8469055342673467,
            0.6439627239681832,
            0.8602277687442147,
            0.8609375880837599,
            0.7589473389664464,
            0.7589473389664464,
            0.8657148842081284,
            0.8081952506000547,
            0.7771013839254592,
            0.7589473389664464,
            0.7966748402806818,
            0.7589473389664464,
            0.8519013721961723,
            0.7741803555233335,
            0.7589473389664464,
            0.7940267935218119,
            0.7589473389664464,
            0.7189537006515306,
            0.7589473389664464,
            0.730042064844849,
            0.8045371475424703,
            0.8069394456183046,
            0.8025714971395331,
            0.8695641321681993,
            0.8580165410518898,
            0.7589473389664464,
            0.8695640576492221,
            0.8501269896520341,
            0.7589473389664464,
            0.7589473389664464,
            0.6547277652231931,
            0.858344115297848,
            0.7589473389664464,
            0.7589473389664464,
            0.7589473389664464,
            0.7589473389664464,
            0.8080041578608522,
            0.7589473389664464,
            0.4237393652570396,
            0.8009335811983552,
            0.8410636115972544,
            0.7387446965309665,
            0.8353306133161464,
            0.8528023923274366,
            0.7986951279977075,
            0.7909967252262871,
            0.7744260445911871,
            0.8559689831151548,
            0.7622778491483282,
            0.5845819714524505
           ]
          }
         ],
         "domain": {
          "x": [
           0,
           1
          ],
          "y": [
           0,
           1
          ]
         },
         "line": {
          "color": [
           0.8172312168490686,
           0.8349485135345652,
           0.7589473389664464,
           0.7589473389664464,
           0.8136276803125446,
           0.855013530596989,
           0.8072943832326935,
           0.7589473389664464,
           0.7941906011375097,
           0.7887853783035986,
           0.7856732832439125,
           0.7555108255394867,
           0.7589473389664464,
           0.8562693728382278,
           0.7966474172970692,
           0.7608856744382881,
           0.7017003926516687,
           0.796483721459837,
           0.8325190756472317,
           0.8546859638029284,
           0.802953712425529,
           0.8594633791576605,
           0.7589473389664464,
           0.8557780096063159,
           0.7849908682582355,
           0.7589473389664464,
           0.8676805010775258,
           0.7589473389664464,
           0.8011246441299669,
           0.8576615289185237,
           0.6132197634313099,
           0.8150201046611583,
           0.727006422529829,
           0.5863294228382259,
           0.7875568174599156,
           0.8004694211190732,
           0.7589473389664464,
           0.8558051121583263,
           0.8155933679749703,
           0.8496083599263619,
           0.796156091324646,
           0.74526951110819,
           0.8081405648486311,
           0.7779475357338057,
           0.8495810114617266,
           0.828533212046246,
           0.80491928458354,
           0.8531571920817178,
           0.7589473389664464,
           0.8423467762214862,
           0.8546040599950795,
           0.770303904410633,
           0.8144466811315454,
           0.8503181829918557,
           0.8550135827602731,
           0.7589473389664464,
           0.7589473389664464,
           0.7589473389664464,
           0.7993229317509377,
           0.839480500637864,
           0.7589473389664464,
           0.8398624215738997,
           0.8341841463037042,
           0.8561601429214367,
           0.7589473389664464,
           0.7165242851198903,
           0.8519833989603336,
           0.8475608616048087,
           0.8312361159501872,
           0.8077311315062101,
           0.7589473389664464,
           0.7589473389664464,
           0.8679260932707091,
           0.7589473389664464,
           0.8572794738483287,
           0.7589473389664464,
           0.8546859414472353,
           0.7904506054499231,
           0.7589473389664464,
           0.7589473389664464,
           0.6769689264434727,
           0.7819605838576769,
           0.8527203432075823,
           0.8526657766865219,
           0.7589473389664464,
           0.8303896958735228,
           0.8494718188044242,
           0.8442303812305176,
           0.7589473389664464,
           0.8285059902638722,
           0.8451858672822231,
           0.7270322396294827,
           0.2858235321317073,
           0.854986282732973,
           0.7589473389664464,
           0.8148836045246582,
           0.6044945823026893,
           0.7365350672707026,
           0.7730883059939972,
           0.7737705570379243,
           0.8508640717593904,
           0.7589473389664464,
           0.7589473389664464,
           0.7589473389664464,
           0.8194423253110301,
           0.8669433668068853,
           0.8553684123221451,
           0.7918974882670802,
           0.7589473389664464,
           0.6015396701216272,
           0.8450220782962697,
           0.6759582702669914,
           0.7589473389664464,
           0.7589473389664464,
           0.3818883339833251,
           0.7589473389664464,
           0.7944362641237214,
           0.7589473389664464,
           0.7589473389664464,
           0.8490350519011635,
           0.6726325963667305,
           0.6015396701216272,
           0.7864649132425848,
           0.8092325808444274,
           0.8581530002029526,
           0.7867100024326721,
           0.7589473389664464,
           0.828150978130506,
           0.7677922907211838,
           0.7917336396659448,
           0.8069939264425413,
           0.8553411756359756,
           0.8338292906601901,
           0.7577457912520011,
           0.8597910092928519,
           0.7830522831478202,
           0.8027079823722378,
           0.7589473389664464,
           0.8448308514229081,
           0.737543342565862,
           0.8399443551893395,
           0.2834757148801096,
           0.6873977604290147,
           0.7414762790632861,
           0.8145831924458922,
           0.7589473389664464,
           0.7589473389664464,
           0.8658513955224751,
           0.7589473389664464,
           0.5921466760009138,
           0.8469055342673467,
           0.6439627239681832,
           0.8602277687442147,
           0.8609375880837599,
           0.7589473389664464,
           0.7589473389664464,
           0.8657148842081284,
           0.8081952506000547,
           0.7771013839254592,
           0.7589473389664464,
           0.7966748402806818,
           0.7589473389664464,
           0.8519013721961723,
           0.7741803555233335,
           0.7589473389664464,
           0.7940267935218119,
           0.7589473389664464,
           0.7189537006515306,
           0.7589473389664464,
           0.730042064844849,
           0.8045371475424703,
           0.8069394456183046,
           0.8025714971395331,
           0.8695641321681993,
           0.8580165410518898,
           0.7589473389664464,
           0.8695640576492221,
           0.8501269896520341,
           0.7589473389664464,
           0.7589473389664464,
           0.6547277652231931,
           0.858344115297848,
           0.7589473389664464,
           0.7589473389664464,
           0.7589473389664464,
           0.7589473389664464,
           0.8080041578608522,
           0.7589473389664464,
           0.4237393652570396,
           0.8009335811983552,
           0.8410636115972544,
           0.7387446965309665,
           0.8353306133161464,
           0.8528023923274366,
           0.7986951279977075,
           0.7909967252262871,
           0.7744260445911871,
           0.8559689831151548,
           0.7622778491483282,
           0.5845819714524505
          ],
          "coloraxis": "coloraxis"
         },
         "name": "",
         "type": "parcoords"
        }
       ],
       "layout": {
        "coloraxis": {
         "colorbar": {
          "title": {
           "text": "mean_test_score"
          }
         },
         "colorscale": [
          [
           0,
           "#440154"
          ],
          [
           0.1111111111111111,
           "#482878"
          ],
          [
           0.2222222222222222,
           "#3e4989"
          ],
          [
           0.3333333333333333,
           "#31688e"
          ],
          [
           0.4444444444444444,
           "#26828e"
          ],
          [
           0.5555555555555556,
           "#1f9e89"
          ],
          [
           0.6666666666666666,
           "#35b779"
          ],
          [
           0.7777777777777778,
           "#6ece58"
          ],
          [
           0.8888888888888888,
           "#b5de2b"
          ],
          [
           1,
           "#fde725"
          ]
         ]
        },
        "legend": {
         "tracegroupgap": 0
        },
        "margin": {
         "t": 60
        },
        "template": {
         "data": {
          "bar": [
           {
            "error_x": {
             "color": "#2a3f5f"
            },
            "error_y": {
             "color": "#2a3f5f"
            },
            "marker": {
             "line": {
              "color": "#E5ECF6",
              "width": 0.5
             }
            },
            "type": "bar"
           }
          ],
          "barpolar": [
           {
            "marker": {
             "line": {
              "color": "#E5ECF6",
              "width": 0.5
             }
            },
            "type": "barpolar"
           }
          ],
          "carpet": [
           {
            "aaxis": {
             "endlinecolor": "#2a3f5f",
             "gridcolor": "white",
             "linecolor": "white",
             "minorgridcolor": "white",
             "startlinecolor": "#2a3f5f"
            },
            "baxis": {
             "endlinecolor": "#2a3f5f",
             "gridcolor": "white",
             "linecolor": "white",
             "minorgridcolor": "white",
             "startlinecolor": "#2a3f5f"
            },
            "type": "carpet"
           }
          ],
          "choropleth": [
           {
            "colorbar": {
             "outlinewidth": 0,
             "ticks": ""
            },
            "type": "choropleth"
           }
          ],
          "contour": [
           {
            "colorbar": {
             "outlinewidth": 0,
             "ticks": ""
            },
            "colorscale": [
             [
              0,
              "#0d0887"
             ],
             [
              0.1111111111111111,
              "#46039f"
             ],
             [
              0.2222222222222222,
              "#7201a8"
             ],
             [
              0.3333333333333333,
              "#9c179e"
             ],
             [
              0.4444444444444444,
              "#bd3786"
             ],
             [
              0.5555555555555556,
              "#d8576b"
             ],
             [
              0.6666666666666666,
              "#ed7953"
             ],
             [
              0.7777777777777778,
              "#fb9f3a"
             ],
             [
              0.8888888888888888,
              "#fdca26"
             ],
             [
              1,
              "#f0f921"
             ]
            ],
            "type": "contour"
           }
          ],
          "contourcarpet": [
           {
            "colorbar": {
             "outlinewidth": 0,
             "ticks": ""
            },
            "type": "contourcarpet"
           }
          ],
          "heatmap": [
           {
            "colorbar": {
             "outlinewidth": 0,
             "ticks": ""
            },
            "colorscale": [
             [
              0,
              "#0d0887"
             ],
             [
              0.1111111111111111,
              "#46039f"
             ],
             [
              0.2222222222222222,
              "#7201a8"
             ],
             [
              0.3333333333333333,
              "#9c179e"
             ],
             [
              0.4444444444444444,
              "#bd3786"
             ],
             [
              0.5555555555555556,
              "#d8576b"
             ],
             [
              0.6666666666666666,
              "#ed7953"
             ],
             [
              0.7777777777777778,
              "#fb9f3a"
             ],
             [
              0.8888888888888888,
              "#fdca26"
             ],
             [
              1,
              "#f0f921"
             ]
            ],
            "type": "heatmap"
           }
          ],
          "heatmapgl": [
           {
            "colorbar": {
             "outlinewidth": 0,
             "ticks": ""
            },
            "colorscale": [
             [
              0,
              "#0d0887"
             ],
             [
              0.1111111111111111,
              "#46039f"
             ],
             [
              0.2222222222222222,
              "#7201a8"
             ],
             [
              0.3333333333333333,
              "#9c179e"
             ],
             [
              0.4444444444444444,
              "#bd3786"
             ],
             [
              0.5555555555555556,
              "#d8576b"
             ],
             [
              0.6666666666666666,
              "#ed7953"
             ],
             [
              0.7777777777777778,
              "#fb9f3a"
             ],
             [
              0.8888888888888888,
              "#fdca26"
             ],
             [
              1,
              "#f0f921"
             ]
            ],
            "type": "heatmapgl"
           }
          ],
          "histogram": [
           {
            "marker": {
             "colorbar": {
              "outlinewidth": 0,
              "ticks": ""
             }
            },
            "type": "histogram"
           }
          ],
          "histogram2d": [
           {
            "colorbar": {
             "outlinewidth": 0,
             "ticks": ""
            },
            "colorscale": [
             [
              0,
              "#0d0887"
             ],
             [
              0.1111111111111111,
              "#46039f"
             ],
             [
              0.2222222222222222,
              "#7201a8"
             ],
             [
              0.3333333333333333,
              "#9c179e"
             ],
             [
              0.4444444444444444,
              "#bd3786"
             ],
             [
              0.5555555555555556,
              "#d8576b"
             ],
             [
              0.6666666666666666,
              "#ed7953"
             ],
             [
              0.7777777777777778,
              "#fb9f3a"
             ],
             [
              0.8888888888888888,
              "#fdca26"
             ],
             [
              1,
              "#f0f921"
             ]
            ],
            "type": "histogram2d"
           }
          ],
          "histogram2dcontour": [
           {
            "colorbar": {
             "outlinewidth": 0,
             "ticks": ""
            },
            "colorscale": [
             [
              0,
              "#0d0887"
             ],
             [
              0.1111111111111111,
              "#46039f"
             ],
             [
              0.2222222222222222,
              "#7201a8"
             ],
             [
              0.3333333333333333,
              "#9c179e"
             ],
             [
              0.4444444444444444,
              "#bd3786"
             ],
             [
              0.5555555555555556,
              "#d8576b"
             ],
             [
              0.6666666666666666,
              "#ed7953"
             ],
             [
              0.7777777777777778,
              "#fb9f3a"
             ],
             [
              0.8888888888888888,
              "#fdca26"
             ],
             [
              1,
              "#f0f921"
             ]
            ],
            "type": "histogram2dcontour"
           }
          ],
          "mesh3d": [
           {
            "colorbar": {
             "outlinewidth": 0,
             "ticks": ""
            },
            "type": "mesh3d"
           }
          ],
          "parcoords": [
           {
            "line": {
             "colorbar": {
              "outlinewidth": 0,
              "ticks": ""
             }
            },
            "type": "parcoords"
           }
          ],
          "pie": [
           {
            "automargin": true,
            "type": "pie"
           }
          ],
          "scatter": [
           {
            "marker": {
             "colorbar": {
              "outlinewidth": 0,
              "ticks": ""
             }
            },
            "type": "scatter"
           }
          ],
          "scatter3d": [
           {
            "line": {
             "colorbar": {
              "outlinewidth": 0,
              "ticks": ""
             }
            },
            "marker": {
             "colorbar": {
              "outlinewidth": 0,
              "ticks": ""
             }
            },
            "type": "scatter3d"
           }
          ],
          "scattercarpet": [
           {
            "marker": {
             "colorbar": {
              "outlinewidth": 0,
              "ticks": ""
             }
            },
            "type": "scattercarpet"
           }
          ],
          "scattergeo": [
           {
            "marker": {
             "colorbar": {
              "outlinewidth": 0,
              "ticks": ""
             }
            },
            "type": "scattergeo"
           }
          ],
          "scattergl": [
           {
            "marker": {
             "colorbar": {
              "outlinewidth": 0,
              "ticks": ""
             }
            },
            "type": "scattergl"
           }
          ],
          "scattermapbox": [
           {
            "marker": {
             "colorbar": {
              "outlinewidth": 0,
              "ticks": ""
             }
            },
            "type": "scattermapbox"
           }
          ],
          "scatterpolar": [
           {
            "marker": {
             "colorbar": {
              "outlinewidth": 0,
              "ticks": ""
             }
            },
            "type": "scatterpolar"
           }
          ],
          "scatterpolargl": [
           {
            "marker": {
             "colorbar": {
              "outlinewidth": 0,
              "ticks": ""
             }
            },
            "type": "scatterpolargl"
           }
          ],
          "scatterternary": [
           {
            "marker": {
             "colorbar": {
              "outlinewidth": 0,
              "ticks": ""
             }
            },
            "type": "scatterternary"
           }
          ],
          "surface": [
           {
            "colorbar": {
             "outlinewidth": 0,
             "ticks": ""
            },
            "colorscale": [
             [
              0,
              "#0d0887"
             ],
             [
              0.1111111111111111,
              "#46039f"
             ],
             [
              0.2222222222222222,
              "#7201a8"
             ],
             [
              0.3333333333333333,
              "#9c179e"
             ],
             [
              0.4444444444444444,
              "#bd3786"
             ],
             [
              0.5555555555555556,
              "#d8576b"
             ],
             [
              0.6666666666666666,
              "#ed7953"
             ],
             [
              0.7777777777777778,
              "#fb9f3a"
             ],
             [
              0.8888888888888888,
              "#fdca26"
             ],
             [
              1,
              "#f0f921"
             ]
            ],
            "type": "surface"
           }
          ],
          "table": [
           {
            "cells": {
             "fill": {
              "color": "#EBF0F8"
             },
             "line": {
              "color": "white"
             }
            },
            "header": {
             "fill": {
              "color": "#C8D4E3"
             },
             "line": {
              "color": "white"
             }
            },
            "type": "table"
           }
          ]
         },
         "layout": {
          "annotationdefaults": {
           "arrowcolor": "#2a3f5f",
           "arrowhead": 0,
           "arrowwidth": 1
          },
          "autotypenumbers": "strict",
          "coloraxis": {
           "colorbar": {
            "outlinewidth": 0,
            "ticks": ""
           }
          },
          "colorscale": {
           "diverging": [
            [
             0,
             "#8e0152"
            ],
            [
             0.1,
             "#c51b7d"
            ],
            [
             0.2,
             "#de77ae"
            ],
            [
             0.3,
             "#f1b6da"
            ],
            [
             0.4,
             "#fde0ef"
            ],
            [
             0.5,
             "#f7f7f7"
            ],
            [
             0.6,
             "#e6f5d0"
            ],
            [
             0.7,
             "#b8e186"
            ],
            [
             0.8,
             "#7fbc41"
            ],
            [
             0.9,
             "#4d9221"
            ],
            [
             1,
             "#276419"
            ]
           ],
           "sequential": [
            [
             0,
             "#0d0887"
            ],
            [
             0.1111111111111111,
             "#46039f"
            ],
            [
             0.2222222222222222,
             "#7201a8"
            ],
            [
             0.3333333333333333,
             "#9c179e"
            ],
            [
             0.4444444444444444,
             "#bd3786"
            ],
            [
             0.5555555555555556,
             "#d8576b"
            ],
            [
             0.6666666666666666,
             "#ed7953"
            ],
            [
             0.7777777777777778,
             "#fb9f3a"
            ],
            [
             0.8888888888888888,
             "#fdca26"
            ],
            [
             1,
             "#f0f921"
            ]
           ],
           "sequentialminus": [
            [
             0,
             "#0d0887"
            ],
            [
             0.1111111111111111,
             "#46039f"
            ],
            [
             0.2222222222222222,
             "#7201a8"
            ],
            [
             0.3333333333333333,
             "#9c179e"
            ],
            [
             0.4444444444444444,
             "#bd3786"
            ],
            [
             0.5555555555555556,
             "#d8576b"
            ],
            [
             0.6666666666666666,
             "#ed7953"
            ],
            [
             0.7777777777777778,
             "#fb9f3a"
            ],
            [
             0.8888888888888888,
             "#fdca26"
            ],
            [
             1,
             "#f0f921"
            ]
           ]
          },
          "colorway": [
           "#636efa",
           "#EF553B",
           "#00cc96",
           "#ab63fa",
           "#FFA15A",
           "#19d3f3",
           "#FF6692",
           "#B6E880",
           "#FF97FF",
           "#FECB52"
          ],
          "font": {
           "color": "#2a3f5f"
          },
          "geo": {
           "bgcolor": "white",
           "lakecolor": "white",
           "landcolor": "#E5ECF6",
           "showlakes": true,
           "showland": true,
           "subunitcolor": "white"
          },
          "hoverlabel": {
           "align": "left"
          },
          "hovermode": "closest",
          "mapbox": {
           "style": "light"
          },
          "paper_bgcolor": "white",
          "plot_bgcolor": "#E5ECF6",
          "polar": {
           "angularaxis": {
            "gridcolor": "white",
            "linecolor": "white",
            "ticks": ""
           },
           "bgcolor": "#E5ECF6",
           "radialaxis": {
            "gridcolor": "white",
            "linecolor": "white",
            "ticks": ""
           }
          },
          "scene": {
           "xaxis": {
            "backgroundcolor": "#E5ECF6",
            "gridcolor": "white",
            "gridwidth": 2,
            "linecolor": "white",
            "showbackground": true,
            "ticks": "",
            "zerolinecolor": "white"
           },
           "yaxis": {
            "backgroundcolor": "#E5ECF6",
            "gridcolor": "white",
            "gridwidth": 2,
            "linecolor": "white",
            "showbackground": true,
            "ticks": "",
            "zerolinecolor": "white"
           },
           "zaxis": {
            "backgroundcolor": "#E5ECF6",
            "gridcolor": "white",
            "gridwidth": 2,
            "linecolor": "white",
            "showbackground": true,
            "ticks": "",
            "zerolinecolor": "white"
           }
          },
          "shapedefaults": {
           "line": {
            "color": "#2a3f5f"
           }
          },
          "ternary": {
           "aaxis": {
            "gridcolor": "white",
            "linecolor": "white",
            "ticks": ""
           },
           "baxis": {
            "gridcolor": "white",
            "linecolor": "white",
            "ticks": ""
           },
           "bgcolor": "#E5ECF6",
           "caxis": {
            "gridcolor": "white",
            "linecolor": "white",
            "ticks": ""
           }
          },
          "title": {
           "x": 0.05
          },
          "xaxis": {
           "automargin": true,
           "gridcolor": "white",
           "linecolor": "white",
           "ticks": "",
           "title": {
            "standoff": 15
           },
           "zerolinecolor": "white",
           "zerolinewidth": 2
          },
          "yaxis": {
           "automargin": true,
           "gridcolor": "white",
           "linecolor": "white",
           "ticks": "",
           "title": {
            "standoff": 15
           },
           "zerolinecolor": "white",
           "zerolinewidth": 2
          }
         }
        }
       }
      },
      "text/html": [
       "<div>                            <div id=\"6d689b3f-1e22-47b1-b8de-d9c4ccf29a7b\" class=\"plotly-graph-div\" style=\"height:525px; width:100%;\"></div>            <script type=\"text/javascript\">                require([\"plotly\"], function(Plotly) {                    window.PLOTLYENV=window.PLOTLYENV || {};                                    if (document.getElementById(\"6d689b3f-1e22-47b1-b8de-d9c4ccf29a7b\")) {                    Plotly.newPlot(                        \"6d689b3f-1e22-47b1-b8de-d9c4ccf29a7b\",                        [{\"dimensions\": [{\"label\": \"learning_rate\", \"values\": [-1.9427016809707103, -1.2197645982306449, -2.9911108503060455, -2.396613770884706, -2.2591382798969306, -0.9275079727900775, -1.2736042864340078, -2.435632232944012, -1.7790949458373246, -2.3489133518857575, -1.385062489574429, 0.25847463326307984, -2.773910603667594, -1.3022906324231662, 0.12513939679279187, 0.8711124572063, 0.3087752310108489, -1.9347944531384997, -1.1293959623372603, -1.8214988530356888, -1.4158899982239699, -1.2159436392881033, -2.939624859191476, -0.3469622439494633, -2.184973294713804, -2.930530939374143, -1.3609572136627515, -2.545309255364725, -1.522326685366044, 0.11628575477377637, 0.4392309166486186, -0.6633558948224514, 0.4810553592144555, 0.8580015461422099, -1.778891372775154, -0.030036990021095313, -2.9404410002104044, -0.4947049081882659, -0.005525342392880722, 0.055358647273440226, -2.1894158054550243, 0.2494245495559726, -2.196984205875634, -1.8599363757350096, -1.6796003017293213, -1.0314600618851244, -0.013746175261447406, 0.060157402738239885, -2.4530617695752497, 0.1907775019357652, 0.06122070614740506, 0.7379568233026781, -2.241169666093336, 0.16689319998897692, -0.7763270866315914, -2.5576099247261217, -2.9842775417802216, -2.8075536587253156, -2.2422745990032116, 0.11224381664883465, -2.4436685238248663, -1.1755747870920692, -0.06109606626900856, -0.04745022124209355, -2.4522998481077436, 0.47066371337287904, -0.48779448926615615, -1.0086011017475938, 0.23103910400374472, -0.7590241256092792, -2.296925413867112, -2.4853208383246748, -0.7587937912802707, -2.357860174155114, -0.6266899826341984, -2.832442705903225, -0.25765648042578077, -1.8233829619333393, -2.9371811934030116, -2.660182459586523, 0.15343120674305455, -2.1219012876544903, -0.7710756509027616, -1.3477091150263036, -2.2903852648996743, -1.414470338058604, -1.1277927665675624, -1.3608804455150254, -2.4445141408046416, -1.54909175277509, -1.4772602949743807, 0.3523873245294911, 0.7802466444685141, -0.9492037718702784, -2.3661195352876123, -1.0691357063113445, 0.795021754462061, 0.41196987527049433, -2.2898219344999013, 0.3774626405956977, -0.16644041409936872, -2.979510602885646, -2.8324800328627973, -2.1103160982337483, 0.1031830689375134, -0.9923823602298373, -1.9792311198007702, -1.619450701510882, -2.884909237127286, 0.5229817910757699, -1.0279615047208717, 0.6991897461319536, -2.2000517353336457, -2.6690797352762887, 0.9010014116453262, -2.9584660002189223, -1.5122832356461133, -2.3598641412153984, -2.0428730950776455, -0.5478810157613889, 0.5362586902643649, 0.5111933244222211, -1.6836556148937396, -0.5965885970197992, -0.8772043193820154, 0.5506872039702713, -2.5470286868824616, -2.0830224690704062, -2.2784627831249864, -1.7201494309256598, 0.2394378436741227, -0.31838221237329734, -0.1315128980818039, 0.36174277531216736, -1.5331533178132466, 0.2850393020513024, -0.4982195575595854, -2.939089074618765, -0.7227269348691161, 0.7281029739249085, 0.11442713849928234, 0.791153653389284, 0.39116200707260207, 0.8559897380328629, -1.7022092021889905, -2.8867329777633466, -1.7463289562906519, -1.7111182524754378, -2.7936504394780006, 0.454836108274153, -1.9133849094090485, 0.7885127641437024, -0.17767696011201423, -1.5503357680096503, -2.1899519341771323, -2.9838596088258664, -1.712972552499639, -0.6433949409354711, -1.772041929071524, -2.6187392613941234, -1.8424470013044578, -2.808910077445238, -1.4419321375158254, -2.282634323787334, -2.49978571701464, -1.8002309328306716, -2.9669032507508906, 0.8940925151628107, -2.777581313096136, 0.7642717384477669, -1.820255364725286, -2.024272923608782, -0.25089472330922197, -0.4395835997501418, -1.5854162245937975, -2.7199910292356413, -0.4622366226382191, -0.22841787469375155, -2.5435979963387743, -2.437943504492412, 0.5524702349902736, -1.1457011075046484, -2.661872035181477, -2.4143284205652598, -2.970412984991308, -2.270531214758075, -1.1280833800495913, -2.268924711471806, 0.42262033708970037, -0.06191612234840081, 0.030808142843158637, 0.9155804517800292, -1.3112155711980384, -1.649340785196063, -1.6042447614743756, -2.0592434206741883, -2.154251672617906, -0.12100979945048701, -2.291049370610316, 0.33929714180195214]}, {\"label\": \"max_leaf_nodes\", \"values\": [2.584962500721156, 1.584962500721156, 4.0, 7.03342300153745, 5.672425341971495, 2.807354922057604, 3.4594316186372973, 4.700439718141092, 1.584962500721156, 4.754887502163468, 1.0, 4.754887502163468, 2.584962500721156, 4.906890595608519, 7.971543553950772, 4.392317422778761, 2.584962500721156, 3.321928094887362, 2.807354922057604, 5.426264754702098, 4.807354922057604, 5.321928094887363, 3.0, 1.0, 4.906890595608519, 2.807354922057604, 6.303780748177103, 1.584962500721156, 6.169925001442312, 4.857980995127572, 6.442943495848728, 4.857980995127572, 4.392317422778761, 4.0, 1.584962500721156, 5.832890014164741, 4.0, 6.918863237274595, 1.584962500721156, 3.169925001442312, 3.700439718141092, 4.392317422778761, 3.584962500721156, 6.930737337562887, 4.584962500721156, 6.584962500721156, 4.523561956057013, 4.700439718141092, 2.0, 3.700439718141092, 5.882643049361842, 6.339850002884624, 4.700439718141092, 4.247927513443585, 3.321928094887362, 3.584962500721156, 5.169925001442312, 4.247927513443585, 3.321928094887362, 2.0, 2.321928094887362, 6.6865005271832185, 5.044394119358453, 1.0, 4.321928094887363, 1.0, 2.0, 1.584962500721156, 3.321928094887362, 1.584962500721156, 5.321928094887363, 4.700439718141092, 5.882643049361842, 2.321928094887362, 7.321928094887363, 7.434628227636725, 2.0, 1.0, 7.434628227636725, 4.0, 1.0, 6.321928094887363, 7.965784284662087, 6.894817763307944, 1.0, 6.845490050944375, 2.321928094887362, 5.857980995127572, 7.044394119358453, 5.754887502163468, 6.727920454563199, 4.700439718141092, 1.584962500721156, 5.357552004618084, 6.149747119504682, 6.475733430966398, 2.584962500721156, 5.857980995127572, 6.832890014164741, 7.906890595608519, 5.523561956057013, 5.857980995127572, 7.442943495848728, 2.0, 6.409390936137702, 6.727920454563199, 7.813781191217037, 2.0, 4.392317422778761, 1.0, 3.169925001442312, 6.409390936137702, 1.0, 2.0, 3.700439718141092, 7.651051691178929, 1.0, 1.0, 4.643856189774724, 1.0, 7.409390936137702, 1.0, 1.584962500721156, 2.584962500721156, 3.807354922057604, 4.807354922057604, 7.149747119504682, 4.523561956057013, 6.977279923499917, 2.0, 2.0, 2.321928094887362, 7.417852514885898, 6.807354922057604, 7.876516946564999, 6.108524456778169, 2.807354922057604, 7.727920454563199, 6.807354922057604, 5.491853096329675, 3.9068905956085187, 1.0, 6.247927513443585, 7.9886846867721655, 2.0, 1.0, 1.0, 5.906890595608519, 7.451211111832329, 5.247927513443585, 7.05528243550119, 1.0, 2.584962500721156, 4.584962500721156, 6.918863237274595, 7.870364719583405, 6.066089190457772, 2.0, 1.584962500721156, 7.098032082960526, 1.584962500721156, 7.348728154231077, 3.169925001442312, 7.851749041416057, 5.832890014164741, 1.584962500721156, 6.930737337562887, 6.807354922057604, 6.066089190457772, 6.906890595608519, 7.948367231584678, 6.409390936137702, 7.900866807980749, 4.584962500721156, 6.22881869049588, 7.312882955284356, 5.169925001442312, 7.562242424221073, 3.584962500721156, 2.321928094887362, 2.584962500721156, 3.0, 7.321928094887363, 5.0, 1.0, 2.807354922057604, 2.321928094887362, 3.700439718141092, 1.584962500721156, 6.807354922057604, 2.321928094887362, 5.727920454563199, 7.6865005271832185, 5.169925001442312, 7.266786540694901, 3.321928094887362, 3.321928094887362, 5.643856189774724, 2.0, 3.0]}, {\"label\": \"max_bins\", \"values\": [7.554588851677638, 7.930737337562887, 1.584962500721156, 7.219168520462161, 6.426264754702098, 4.906890595608519, 1.584962500721156, 6.409390936137702, 5.906890595608519, 4.523561956057013, 3.0, 6.554588851677638, 6.906890595608519, 5.20945336562895, 4.087462841250339, 7.636624620543649, 5.832890014164741, 3.169925001442312, 2.584962500721156, 6.599912842187128, 1.0, 6.066089190457772, 6.285402218862249, 6.768184324776926, 3.0, 7.851749041416057, 7.9886846867721655, 1.584962500721156, 1.0, 7.672425341971495, 6.149747119504682, 2.0, 1.0, 4.0, 3.9068905956085187, 1.584962500721156, 4.700439718141092, 5.882643049361842, 2.0, 5.087462841250339, 5.614709844115208, 7.392317422778761, 5.087462841250339, 3.9068905956085187, 4.643856189774724, 2.321928094887362, 1.584962500721156, 4.584962500721156, 2.321928094887362, 4.169925001442312, 5.129283016944966, 6.78135971352466, 6.794415866350106, 7.108524456778169, 4.169925001442312, 2.0, 7.285402218862249, 5.930737337562887, 4.584962500721156, 3.807354922057604, 1.0, 2.807354922057604, 2.807354922057604, 6.768184324776926, 6.741466986401147, 5.247927513443585, 4.906890595608519, 4.700439718141092, 7.857980995127572, 1.584962500721156, 1.0, 1.584962500721156, 7.954196310386875, 6.714245517666122, 6.491853096329675, 1.584962500721156, 6.22881869049588, 6.906890595608519, 7.129283016944966, 6.0, 7.754887502163468, 1.584962500721156, 4.954196310386875, 4.459431618637297, 6.149747119504682, 2.584962500721156, 6.321928094887363, 3.0, 2.807354922057604, 2.321928094887362, 3.9068905956085187, 4.523561956057013, 2.807354922057604, 4.523561956057013, 5.285402218862249, 2.0, 2.0, 5.554588851677638, 3.584962500721156, 6.475733430966398, 5.0, 3.584962500721156, 5.700439718141092, 2.0, 3.169925001442312, 7.622051819456376, 6.9886846867721655, 1.0, 7.800899899920305, 7.022367813028454, 3.0, 1.584962500721156, 2.0, 7.614709844115208, 4.087462841250339, 5.977279923499917, 6.20945336562895, 5.044394119358453, 5.426264754702098, 6.22881869049588, 4.247927513443585, 3.0, 3.321928094887362, 1.584962500721156, 5.832890014164741, 6.6865005271832185, 5.857980995127572, 7.622051819456376, 1.584962500721156, 1.584962500721156, 2.584962500721156, 6.149747119504682, 3.0, 4.087462841250339, 6.584962500721156, 3.584962500721156, 1.0, 7.7481928495894605, 3.807354922057604, 7.011227255423254, 5.087462841250339, 3.700439718141092, 1.0, 2.584962500721156, 6.523561956057013, 5.044394119358453, 1.0, 7.189824558880018, 1.0, 4.807354922057604, 6.189824558880018, 3.0, 6.820178962415188, 7.636624620543649, 1.584962500721156, 4.643856189774724, 7.022367813028454, 1.584962500721156, 1.584962500721156, 7.348728154231077, 5.392317422778761, 5.087462841250339, 5.426264754702098, 3.700439718141092, 5.832890014164741, 4.321928094887363, 6.149747119504682, 3.0, 5.392317422778761, 4.247927513443585, 1.584962500721156, 2.584962500721156, 1.584962500721156, 6.918863237274595, 5.882643049361842, 6.491853096329675, 7.05528243550119, 7.651051691178929, 5.491853096329675, 2.0, 1.584962500721156, 6.442943495848728, 6.507794640198696, 6.22881869049588, 4.247927513443585, 4.906890595608519, 1.584962500721156, 3.807354922057604, 1.584962500721156, 1.584962500721156, 3.700439718141092, 4.857980995127572, 3.169925001442312, 4.321928094887363, 2.584962500721156, 3.4594316186372973, 2.0, 5.930737337562887, 6.918863237274595, 5.426264754702098]}, {\"label\": \"min_samples_leaf\", \"values\": [0.47712125471966244, 0.8450980400142568, 1.0, 0.47712125471966244, 0.0, 0.0, 1.8920946026904804, 1.1139433523068367, 0.8450980400142568, 1.0791812460476249, 0.0, 0.0, 0.6989700043360189, 1.3617278360175928, 0.7781512503836436, 0.6989700043360189, 1.0791812460476249, 1.9493900066449128, 0.6020599913279624, 0.0, 0.0, 1.6812412373755872, 1.0, 0.0, 1.1760912590556813, 0.6020599913279624, 1.7558748556724915, 0.3010299956639812, 1.4913616938342726, 1.5185139398778875, 0.0, 1.8920946026904804, 0.47712125471966244, 1.662757831681574, 1.0413926851582251, 0.6020599913279624, 1.2041199826559248, 0.47712125471966244, 0.6989700043360189, 0.47712125471966244, 1.0791812460476249, 1.0, 0.3010299956639812, 1.8692317197309762, 1.0, 1.4313637641589874, 0.6989700043360189, 0.6020599913279624, 0.0, 0.47712125471966244, 0.0, 1.7993405494535817, 1.146128035678238, 0.3010299956639812, 1.0, 0.0, 0.3010299956639812, 1.919078092376074, 0.47712125471966244, 1.6989700043360187, 1.2041199826559248, 1.462397997898956, 0.0, 1.5185139398778875, 0.6020599913279624, 0.3010299956639812, 0.0, 1.3222192947339193, 0.9542425094393249, 1.146128035678238, 0.0, 0.6020599913279624, 0.8450980400142568, 0.0, 1.1760912590556813, 1.9084850188786497, 0.0, 0.0, 0.6989700043360189, 1.1760912590556813, 0.0, 0.0, 1.4313637641589874, 1.7708520116421442, 0.0, 1.0413926851582251, 0.0, 1.5797835966168101, 1.8325089127062364, 0.3010299956639812, 0.0, 0.9030899869919435, 0.3010299956639812, 1.9294189257142926, 1.414973347970818, 1.9395192526186185, 1.505149978319906, 1.4771212547196624, 0.6020599913279624, 0.0, 1.7993405494535817, 0.47712125471966244, 1.505149978319906, 1.1139433523068367, 0.0, 1.9084850188786497, 0.47712125471966244, 1.3979400086720377, 0.0, 1.845098040014257, 0.6020599913279624, 0.0, 0.0, 0.0, 0.3010299956639812, 1.0, 1.5314789170422551, 1.5797835966168101, 1.0, 1.7403626894942439, 1.0791812460476249, 1.4471580313422192, 0.9542425094393249, 1.2787536009528289, 1.462397997898956, 0.0, 1.954242509439325, 0.6020599913279624, 1.0791812460476249, 1.3617278360175928, 0.0, 0.0, 0.47712125471966244, 1.380211241711606, 1.8750612633917, 1.8976270912904414, 1.9138138523837167, 0.8450980400142568, 1.5440680443502757, 0.0, 0.9030899869919435, 0.0, 1.4771212547196624, 0.0, 1.7075701760979363, 0.6989700043360189, 0.3010299956639812, 0.8450980400142568, 1.591064607026499, 1.146128035678238, 1.1760912590556813, 1.1139433523068367, 0.0, 0.0, 1.4913616938342726, 1.9867717342662448, 0.6020599913279624, 0.7781512503836436, 0.0, 0.0, 1.0, 1.0413926851582251, 1.7993405494535817, 1.8920946026904804, 0.47712125471966244, 0.3010299956639812, 1.8195439355418688, 0.0, 1.5563025007672873, 0.0, 0.6020599913279624, 1.7853298350107671, 1.4471580313422192, 1.5314789170422551, 1.3010299956639813, 0.47712125471966244, 1.6901960800285136, 0.6020599913279624, 1.146128035678238, 1.3222192947339193, 0.47712125471966244, 0.3010299956639812, 0.8450980400142568, 0.47712125471966244, 0.47712125471966244, 0.6989700043360189, 1.380211241711606, 1.8325089127062364, 0.0, 0.7781512503836436, 1.3222192947339193, 1.968482948553935, 1.0791812460476249, 0.0, 1.462397997898956, 1.1139433523068367, 1.3617278360175928, 1.8750612633917, 1.0791812460476249, 0.0]}, {\"label\": \"l2_regularization\", \"values\": [-2.759244330347109, -4.718135124332669, -5.455758020357239, 0.3586097733068906, 0.45319635805719166, 0.3769071330599284, -1.9506851574609059, 1.9002156335755773, 0.7373679429054565, -1.0800698237158646, -4.746498757760878, -4.002024446431074, 2.9253772328388705, -1.6081965340198165, -4.329449363554857, -1.2530060181438694, -4.679181080345356, -5.904666604913207, -3.0962307839957366, -4.43179496274286, -2.1914607743268415, -2.5561375507589035, -4.742755496915934, -5.529019424856824, 0.49898075942697145, -0.620761311057586, -4.362334592564697, 1.8587921508818883, 1.368309425391751, 0.790434221512036, -5.0708757787278715, -0.03997964322110309, -1.5389858308014157, -1.8135318304745496, -2.908164396107222, -3.295099401427179, 0.5396071367169389, 1.451398203533801, -1.404637896473056, -4.679805248794614, -4.809486456565149, -5.086882004346305, -3.9224565486105654, 2.4765379742408324, -3.9104473673484117, -4.979663270278797, -1.577361143352489, 2.095845898165156, -3.852487670039714, 1.2465758794015924, 2.7408665333578277, 1.887484699279868, -0.9701825127286756, -1.5570662068085814, -1.4374501957457178, 1.7586428861996524, 0.7233491576439853, -0.2871441817644477, -5.922813950915569, -1.2913439494416834, 2.06088107121411, -2.115567875662323, -0.10429991690132326, 1.0935144809157538, -1.8045622490997728, -2.777911677204568, 2.734980486291172, -2.272567741335918, 1.556192384177649, -4.165636902572127, -3.085329903850145, 2.800132441067505, -4.570482511790685, -3.208004200719868, -1.679416531218776, 2.90586876954389, -3.240962653001915, -5.496959532005615, -2.2543105510776686, 0.666842172422079, -1.2122136212469588, 0.8766772984502137, 1.6154481862499919, -5.979459498401439, 2.327529180301681, -0.9406676301514096, 2.377250247224262, -5.227796024529544, -1.1528325617312254, -1.6311237642136909, 2.1384197911493543, -3.7374062997984985, 1.1390291392371996, -2.221414073392048, 0.47893013474039553, 1.4501723482839988, 2.738410315549629, -0.1679714806113212, -1.3088890331486032, -0.7991644739814047, -3.7863560610297835, -2.5779315179512263, 0.6314963504338458, -1.5298375509658713, -4.273187945825145, 0.3562576680438033, 0.09914190615031926, -3.4613114740723665, -2.3018772384359933, -3.898857555724065, -2.944202383492643, -2.123047378216131, -4.961744339374495, 2.8510358578360173, -2.707934662950803, -0.7895158718255055, -2.031423836834261, -5.844907460360145, 2.3026276671462007, 1.6329563819511665, -4.746251380341423, -0.7462321725082732, -1.3381581079497593, -3.5095786069323123, -3.346776188401886, 1.8740570308067486, 2.6773937567041215, -1.461312802567365, -1.334375635887763, 1.7581691372584867, -3.738060693083701, -2.9722654165907034, 0.3413643900810774, -0.11204292966382645, -2.5485705761534847, 0.38906222505988586, -5.427221757146599, -2.8516442398646085, -3.054575615744059, -0.9679857335367226, -1.5412519018488162, -5.9805857959601765, -4.531616702876308, -0.8191583791356034, 0.42279403904087737, -0.31793832893282925, -2.5853936610992636, -2.7975583158977315, 2.970053644675267, -3.376663315205386, 0.3563076470835281, 2.6034553392948965, -4.416678885673996, 1.3995887957803201, 2.6395324325348892, 0.5661104522456413, -0.5508430072680566, 2.036202305973629, -0.30796642492365556, -5.190222657213638, -0.24584173085046818, -2.5856636508017328, -5.302384242599491, -2.8236089545468395, 1.8569911809190744, -4.8181991751312525, -5.544050577847155, 0.4485456261068239, -0.14894678507492884, 2.9077455071493805, -3.214895778741445, -1.0118495096686284, -3.2417517958100497, -5.346630415032059, 0.5214836620433533, -3.1427953304002494, -4.747471674968838, -1.441224263392273, 1.3584608780406695, -0.519247117253902, -1.4013865366083873, -2.163507015756679, -0.5170897371463458, -5.376034732426774, -1.504606386986423, 2.527478895818193, -5.354148348089658, 1.0868512085702196, -0.9424743035214121, -0.864084576704563, -1.649903457938822, 0.7768788279635144, -4.99786736090813, -1.9715356702031583, 2.8643045147657604, -4.95238157480477, -5.942422651565778, 0.9498845429596459, -3.9712463469251236, -3.4409987355962435]}, {\"label\": \"mean_test_score\", \"values\": [0.8172312168490686, 0.8349485135345652, 0.7589473389664464, 0.7589473389664464, 0.8136276803125446, 0.855013530596989, 0.8072943832326935, 0.7589473389664464, 0.7941906011375097, 0.7887853783035986, 0.7856732832439125, 0.7555108255394867, 0.7589473389664464, 0.8562693728382278, 0.7966474172970692, 0.7608856744382881, 0.7017003926516687, 0.796483721459837, 0.8325190756472317, 0.8546859638029284, 0.802953712425529, 0.8594633791576605, 0.7589473389664464, 0.8557780096063159, 0.7849908682582355, 0.7589473389664464, 0.8676805010775258, 0.7589473389664464, 0.8011246441299669, 0.8576615289185237, 0.6132197634313099, 0.8150201046611583, 0.727006422529829, 0.5863294228382259, 0.7875568174599156, 0.8004694211190732, 0.7589473389664464, 0.8558051121583263, 0.8155933679749703, 0.8496083599263619, 0.796156091324646, 0.74526951110819, 0.8081405648486311, 0.7779475357338057, 0.8495810114617266, 0.828533212046246, 0.80491928458354, 0.8531571920817178, 0.7589473389664464, 0.8423467762214862, 0.8546040599950795, 0.770303904410633, 0.8144466811315454, 0.8503181829918557, 0.8550135827602731, 0.7589473389664464, 0.7589473389664464, 0.7589473389664464, 0.7993229317509377, 0.839480500637864, 0.7589473389664464, 0.8398624215738997, 0.8341841463037042, 0.8561601429214367, 0.7589473389664464, 0.7165242851198903, 0.8519833989603336, 0.8475608616048087, 0.8312361159501872, 0.8077311315062101, 0.7589473389664464, 0.7589473389664464, 0.8679260932707091, 0.7589473389664464, 0.8572794738483287, 0.7589473389664464, 0.8546859414472353, 0.7904506054499231, 0.7589473389664464, 0.7589473389664464, 0.6769689264434727, 0.7819605838576769, 0.8527203432075823, 0.8526657766865219, 0.7589473389664464, 0.8303896958735228, 0.8494718188044242, 0.8442303812305176, 0.7589473389664464, 0.8285059902638722, 0.8451858672822231, 0.7270322396294827, 0.2858235321317073, 0.854986282732973, 0.7589473389664464, 0.8148836045246582, 0.6044945823026893, 0.7365350672707026, 0.7730883059939972, 0.7737705570379243, 0.8508640717593904, 0.7589473389664464, 0.7589473389664464, 0.7589473389664464, 0.8194423253110301, 0.8669433668068853, 0.8553684123221451, 0.7918974882670802, 0.7589473389664464, 0.6015396701216272, 0.8450220782962697, 0.6759582702669914, 0.7589473389664464, 0.7589473389664464, 0.3818883339833251, 0.7589473389664464, 0.7944362641237214, 0.7589473389664464, 0.7589473389664464, 0.8490350519011635, 0.6726325963667305, 0.6015396701216272, 0.7864649132425848, 0.8092325808444274, 0.8581530002029526, 0.7867100024326721, 0.7589473389664464, 0.828150978130506, 0.7677922907211838, 0.7917336396659448, 0.8069939264425413, 0.8553411756359756, 0.8338292906601901, 0.7577457912520011, 0.8597910092928519, 0.7830522831478202, 0.8027079823722378, 0.7589473389664464, 0.8448308514229081, 0.737543342565862, 0.8399443551893395, 0.2834757148801096, 0.6873977604290147, 0.7414762790632861, 0.8145831924458922, 0.7589473389664464, 0.7589473389664464, 0.8658513955224751, 0.7589473389664464, 0.5921466760009138, 0.8469055342673467, 0.6439627239681832, 0.8602277687442147, 0.8609375880837599, 0.7589473389664464, 0.7589473389664464, 0.8657148842081284, 0.8081952506000547, 0.7771013839254592, 0.7589473389664464, 0.7966748402806818, 0.7589473389664464, 0.8519013721961723, 0.7741803555233335, 0.7589473389664464, 0.7940267935218119, 0.7589473389664464, 0.7189537006515306, 0.7589473389664464, 0.730042064844849, 0.8045371475424703, 0.8069394456183046, 0.8025714971395331, 0.8695641321681993, 0.8580165410518898, 0.7589473389664464, 0.8695640576492221, 0.8501269896520341, 0.7589473389664464, 0.7589473389664464, 0.6547277652231931, 0.858344115297848, 0.7589473389664464, 0.7589473389664464, 0.7589473389664464, 0.7589473389664464, 0.8080041578608522, 0.7589473389664464, 0.4237393652570396, 0.8009335811983552, 0.8410636115972544, 0.7387446965309665, 0.8353306133161464, 0.8528023923274366, 0.7986951279977075, 0.7909967252262871, 0.7744260445911871, 0.8559689831151548, 0.7622778491483282, 0.5845819714524505]}], \"domain\": {\"x\": [0.0, 1.0], \"y\": [0.0, 1.0]}, \"line\": {\"color\": [0.8172312168490686, 0.8349485135345652, 0.7589473389664464, 0.7589473389664464, 0.8136276803125446, 0.855013530596989, 0.8072943832326935, 0.7589473389664464, 0.7941906011375097, 0.7887853783035986, 0.7856732832439125, 0.7555108255394867, 0.7589473389664464, 0.8562693728382278, 0.7966474172970692, 0.7608856744382881, 0.7017003926516687, 0.796483721459837, 0.8325190756472317, 0.8546859638029284, 0.802953712425529, 0.8594633791576605, 0.7589473389664464, 0.8557780096063159, 0.7849908682582355, 0.7589473389664464, 0.8676805010775258, 0.7589473389664464, 0.8011246441299669, 0.8576615289185237, 0.6132197634313099, 0.8150201046611583, 0.727006422529829, 0.5863294228382259, 0.7875568174599156, 0.8004694211190732, 0.7589473389664464, 0.8558051121583263, 0.8155933679749703, 0.8496083599263619, 0.796156091324646, 0.74526951110819, 0.8081405648486311, 0.7779475357338057, 0.8495810114617266, 0.828533212046246, 0.80491928458354, 0.8531571920817178, 0.7589473389664464, 0.8423467762214862, 0.8546040599950795, 0.770303904410633, 0.8144466811315454, 0.8503181829918557, 0.8550135827602731, 0.7589473389664464, 0.7589473389664464, 0.7589473389664464, 0.7993229317509377, 0.839480500637864, 0.7589473389664464, 0.8398624215738997, 0.8341841463037042, 0.8561601429214367, 0.7589473389664464, 0.7165242851198903, 0.8519833989603336, 0.8475608616048087, 0.8312361159501872, 0.8077311315062101, 0.7589473389664464, 0.7589473389664464, 0.8679260932707091, 0.7589473389664464, 0.8572794738483287, 0.7589473389664464, 0.8546859414472353, 0.7904506054499231, 0.7589473389664464, 0.7589473389664464, 0.6769689264434727, 0.7819605838576769, 0.8527203432075823, 0.8526657766865219, 0.7589473389664464, 0.8303896958735228, 0.8494718188044242, 0.8442303812305176, 0.7589473389664464, 0.8285059902638722, 0.8451858672822231, 0.7270322396294827, 0.2858235321317073, 0.854986282732973, 0.7589473389664464, 0.8148836045246582, 0.6044945823026893, 0.7365350672707026, 0.7730883059939972, 0.7737705570379243, 0.8508640717593904, 0.7589473389664464, 0.7589473389664464, 0.7589473389664464, 0.8194423253110301, 0.8669433668068853, 0.8553684123221451, 0.7918974882670802, 0.7589473389664464, 0.6015396701216272, 0.8450220782962697, 0.6759582702669914, 0.7589473389664464, 0.7589473389664464, 0.3818883339833251, 0.7589473389664464, 0.7944362641237214, 0.7589473389664464, 0.7589473389664464, 0.8490350519011635, 0.6726325963667305, 0.6015396701216272, 0.7864649132425848, 0.8092325808444274, 0.8581530002029526, 0.7867100024326721, 0.7589473389664464, 0.828150978130506, 0.7677922907211838, 0.7917336396659448, 0.8069939264425413, 0.8553411756359756, 0.8338292906601901, 0.7577457912520011, 0.8597910092928519, 0.7830522831478202, 0.8027079823722378, 0.7589473389664464, 0.8448308514229081, 0.737543342565862, 0.8399443551893395, 0.2834757148801096, 0.6873977604290147, 0.7414762790632861, 0.8145831924458922, 0.7589473389664464, 0.7589473389664464, 0.8658513955224751, 0.7589473389664464, 0.5921466760009138, 0.8469055342673467, 0.6439627239681832, 0.8602277687442147, 0.8609375880837599, 0.7589473389664464, 0.7589473389664464, 0.8657148842081284, 0.8081952506000547, 0.7771013839254592, 0.7589473389664464, 0.7966748402806818, 0.7589473389664464, 0.8519013721961723, 0.7741803555233335, 0.7589473389664464, 0.7940267935218119, 0.7589473389664464, 0.7189537006515306, 0.7589473389664464, 0.730042064844849, 0.8045371475424703, 0.8069394456183046, 0.8025714971395331, 0.8695641321681993, 0.8580165410518898, 0.7589473389664464, 0.8695640576492221, 0.8501269896520341, 0.7589473389664464, 0.7589473389664464, 0.6547277652231931, 0.858344115297848, 0.7589473389664464, 0.7589473389664464, 0.7589473389664464, 0.7589473389664464, 0.8080041578608522, 0.7589473389664464, 0.4237393652570396, 0.8009335811983552, 0.8410636115972544, 0.7387446965309665, 0.8353306133161464, 0.8528023923274366, 0.7986951279977075, 0.7909967252262871, 0.7744260445911871, 0.8559689831151548, 0.7622778491483282, 0.5845819714524505], \"coloraxis\": \"coloraxis\"}, \"name\": \"\", \"type\": \"parcoords\"}],                        {\"coloraxis\": {\"colorbar\": {\"title\": {\"text\": \"mean_test_score\"}}, \"colorscale\": [[0.0, \"#440154\"], [0.1111111111111111, \"#482878\"], [0.2222222222222222, \"#3e4989\"], [0.3333333333333333, \"#31688e\"], [0.4444444444444444, \"#26828e\"], [0.5555555555555556, \"#1f9e89\"], [0.6666666666666666, \"#35b779\"], [0.7777777777777778, \"#6ece58\"], [0.8888888888888888, \"#b5de2b\"], [1.0, \"#fde725\"]]}, \"legend\": {\"tracegroupgap\": 0}, \"margin\": {\"t\": 60}, \"template\": {\"data\": {\"bar\": [{\"error_x\": {\"color\": \"#2a3f5f\"}, \"error_y\": {\"color\": \"#2a3f5f\"}, \"marker\": {\"line\": {\"color\": \"#E5ECF6\", \"width\": 0.5}}, \"type\": \"bar\"}], \"barpolar\": [{\"marker\": {\"line\": {\"color\": \"#E5ECF6\", \"width\": 0.5}}, \"type\": \"barpolar\"}], \"carpet\": [{\"aaxis\": {\"endlinecolor\": \"#2a3f5f\", \"gridcolor\": \"white\", \"linecolor\": \"white\", \"minorgridcolor\": \"white\", \"startlinecolor\": \"#2a3f5f\"}, \"baxis\": {\"endlinecolor\": \"#2a3f5f\", \"gridcolor\": \"white\", \"linecolor\": \"white\", \"minorgridcolor\": \"white\", \"startlinecolor\": \"#2a3f5f\"}, \"type\": \"carpet\"}], \"choropleth\": [{\"colorbar\": {\"outlinewidth\": 0, \"ticks\": \"\"}, \"type\": \"choropleth\"}], \"contour\": [{\"colorbar\": {\"outlinewidth\": 0, \"ticks\": \"\"}, \"colorscale\": [[0.0, \"#0d0887\"], [0.1111111111111111, \"#46039f\"], [0.2222222222222222, \"#7201a8\"], [0.3333333333333333, \"#9c179e\"], [0.4444444444444444, \"#bd3786\"], [0.5555555555555556, \"#d8576b\"], [0.6666666666666666, \"#ed7953\"], [0.7777777777777778, \"#fb9f3a\"], [0.8888888888888888, \"#fdca26\"], [1.0, \"#f0f921\"]], \"type\": \"contour\"}], \"contourcarpet\": [{\"colorbar\": {\"outlinewidth\": 0, \"ticks\": \"\"}, \"type\": \"contourcarpet\"}], \"heatmap\": [{\"colorbar\": {\"outlinewidth\": 0, \"ticks\": \"\"}, \"colorscale\": [[0.0, \"#0d0887\"], [0.1111111111111111, \"#46039f\"], [0.2222222222222222, \"#7201a8\"], [0.3333333333333333, \"#9c179e\"], [0.4444444444444444, \"#bd3786\"], [0.5555555555555556, \"#d8576b\"], [0.6666666666666666, \"#ed7953\"], [0.7777777777777778, \"#fb9f3a\"], [0.8888888888888888, \"#fdca26\"], [1.0, \"#f0f921\"]], \"type\": \"heatmap\"}], \"heatmapgl\": [{\"colorbar\": {\"outlinewidth\": 0, \"ticks\": \"\"}, \"colorscale\": [[0.0, \"#0d0887\"], [0.1111111111111111, \"#46039f\"], [0.2222222222222222, \"#7201a8\"], [0.3333333333333333, \"#9c179e\"], [0.4444444444444444, \"#bd3786\"], [0.5555555555555556, \"#d8576b\"], [0.6666666666666666, \"#ed7953\"], [0.7777777777777778, \"#fb9f3a\"], [0.8888888888888888, \"#fdca26\"], [1.0, \"#f0f921\"]], \"type\": \"heatmapgl\"}], \"histogram\": [{\"marker\": {\"colorbar\": {\"outlinewidth\": 0, \"ticks\": \"\"}}, \"type\": \"histogram\"}], \"histogram2d\": [{\"colorbar\": {\"outlinewidth\": 0, \"ticks\": \"\"}, \"colorscale\": [[0.0, \"#0d0887\"], [0.1111111111111111, \"#46039f\"], [0.2222222222222222, \"#7201a8\"], [0.3333333333333333, \"#9c179e\"], [0.4444444444444444, \"#bd3786\"], [0.5555555555555556, \"#d8576b\"], [0.6666666666666666, \"#ed7953\"], [0.7777777777777778, \"#fb9f3a\"], [0.8888888888888888, \"#fdca26\"], [1.0, \"#f0f921\"]], \"type\": \"histogram2d\"}], \"histogram2dcontour\": [{\"colorbar\": {\"outlinewidth\": 0, \"ticks\": \"\"}, \"colorscale\": [[0.0, \"#0d0887\"], [0.1111111111111111, \"#46039f\"], [0.2222222222222222, \"#7201a8\"], [0.3333333333333333, \"#9c179e\"], [0.4444444444444444, \"#bd3786\"], [0.5555555555555556, \"#d8576b\"], [0.6666666666666666, \"#ed7953\"], [0.7777777777777778, \"#fb9f3a\"], [0.8888888888888888, \"#fdca26\"], [1.0, \"#f0f921\"]], \"type\": \"histogram2dcontour\"}], \"mesh3d\": [{\"colorbar\": {\"outlinewidth\": 0, \"ticks\": \"\"}, \"type\": \"mesh3d\"}], \"parcoords\": [{\"line\": {\"colorbar\": {\"outlinewidth\": 0, \"ticks\": \"\"}}, \"type\": \"parcoords\"}], \"pie\": [{\"automargin\": true, \"type\": \"pie\"}], \"scatter\": [{\"marker\": {\"colorbar\": {\"outlinewidth\": 0, \"ticks\": \"\"}}, \"type\": \"scatter\"}], \"scatter3d\": [{\"line\": {\"colorbar\": {\"outlinewidth\": 0, \"ticks\": \"\"}}, \"marker\": {\"colorbar\": {\"outlinewidth\": 0, \"ticks\": \"\"}}, \"type\": \"scatter3d\"}], \"scattercarpet\": [{\"marker\": {\"colorbar\": {\"outlinewidth\": 0, \"ticks\": \"\"}}, \"type\": \"scattercarpet\"}], \"scattergeo\": [{\"marker\": {\"colorbar\": {\"outlinewidth\": 0, \"ticks\": \"\"}}, \"type\": \"scattergeo\"}], \"scattergl\": [{\"marker\": {\"colorbar\": {\"outlinewidth\": 0, \"ticks\": \"\"}}, \"type\": \"scattergl\"}], \"scattermapbox\": [{\"marker\": {\"colorbar\": {\"outlinewidth\": 0, \"ticks\": \"\"}}, \"type\": \"scattermapbox\"}], \"scatterpolar\": [{\"marker\": {\"colorbar\": {\"outlinewidth\": 0, \"ticks\": \"\"}}, \"type\": \"scatterpolar\"}], \"scatterpolargl\": [{\"marker\": {\"colorbar\": {\"outlinewidth\": 0, \"ticks\": \"\"}}, \"type\": \"scatterpolargl\"}], \"scatterternary\": [{\"marker\": {\"colorbar\": {\"outlinewidth\": 0, \"ticks\": \"\"}}, \"type\": \"scatterternary\"}], \"surface\": [{\"colorbar\": {\"outlinewidth\": 0, \"ticks\": \"\"}, \"colorscale\": [[0.0, \"#0d0887\"], [0.1111111111111111, \"#46039f\"], [0.2222222222222222, \"#7201a8\"], [0.3333333333333333, \"#9c179e\"], [0.4444444444444444, \"#bd3786\"], [0.5555555555555556, \"#d8576b\"], [0.6666666666666666, \"#ed7953\"], [0.7777777777777778, \"#fb9f3a\"], [0.8888888888888888, \"#fdca26\"], [1.0, \"#f0f921\"]], \"type\": \"surface\"}], \"table\": [{\"cells\": {\"fill\": {\"color\": \"#EBF0F8\"}, \"line\": {\"color\": \"white\"}}, \"header\": {\"fill\": {\"color\": \"#C8D4E3\"}, \"line\": {\"color\": \"white\"}}, \"type\": \"table\"}]}, \"layout\": {\"annotationdefaults\": {\"arrowcolor\": \"#2a3f5f\", \"arrowhead\": 0, \"arrowwidth\": 1}, \"autotypenumbers\": \"strict\", \"coloraxis\": {\"colorbar\": {\"outlinewidth\": 0, \"ticks\": \"\"}}, \"colorscale\": {\"diverging\": [[0, \"#8e0152\"], [0.1, \"#c51b7d\"], [0.2, \"#de77ae\"], [0.3, \"#f1b6da\"], [0.4, \"#fde0ef\"], [0.5, \"#f7f7f7\"], [0.6, \"#e6f5d0\"], [0.7, \"#b8e186\"], [0.8, \"#7fbc41\"], [0.9, \"#4d9221\"], [1, \"#276419\"]], \"sequential\": [[0.0, \"#0d0887\"], [0.1111111111111111, \"#46039f\"], [0.2222222222222222, \"#7201a8\"], [0.3333333333333333, \"#9c179e\"], [0.4444444444444444, \"#bd3786\"], [0.5555555555555556, \"#d8576b\"], [0.6666666666666666, \"#ed7953\"], [0.7777777777777778, \"#fb9f3a\"], [0.8888888888888888, \"#fdca26\"], [1.0, \"#f0f921\"]], \"sequentialminus\": [[0.0, \"#0d0887\"], [0.1111111111111111, \"#46039f\"], [0.2222222222222222, \"#7201a8\"], [0.3333333333333333, \"#9c179e\"], [0.4444444444444444, \"#bd3786\"], [0.5555555555555556, \"#d8576b\"], [0.6666666666666666, \"#ed7953\"], [0.7777777777777778, \"#fb9f3a\"], [0.8888888888888888, \"#fdca26\"], [1.0, \"#f0f921\"]]}, \"colorway\": [\"#636efa\", \"#EF553B\", \"#00cc96\", \"#ab63fa\", \"#FFA15A\", \"#19d3f3\", \"#FF6692\", \"#B6E880\", \"#FF97FF\", \"#FECB52\"], \"font\": {\"color\": \"#2a3f5f\"}, \"geo\": {\"bgcolor\": \"white\", \"lakecolor\": \"white\", \"landcolor\": \"#E5ECF6\", \"showlakes\": true, \"showland\": true, \"subunitcolor\": \"white\"}, \"hoverlabel\": {\"align\": \"left\"}, \"hovermode\": \"closest\", \"mapbox\": {\"style\": \"light\"}, \"paper_bgcolor\": \"white\", \"plot_bgcolor\": \"#E5ECF6\", \"polar\": {\"angularaxis\": {\"gridcolor\": \"white\", \"linecolor\": \"white\", \"ticks\": \"\"}, \"bgcolor\": \"#E5ECF6\", \"radialaxis\": {\"gridcolor\": \"white\", \"linecolor\": \"white\", \"ticks\": \"\"}}, \"scene\": {\"xaxis\": {\"backgroundcolor\": \"#E5ECF6\", \"gridcolor\": \"white\", \"gridwidth\": 2, \"linecolor\": \"white\", \"showbackground\": true, \"ticks\": \"\", \"zerolinecolor\": \"white\"}, \"yaxis\": {\"backgroundcolor\": \"#E5ECF6\", \"gridcolor\": \"white\", \"gridwidth\": 2, \"linecolor\": \"white\", \"showbackground\": true, \"ticks\": \"\", \"zerolinecolor\": \"white\"}, \"zaxis\": {\"backgroundcolor\": \"#E5ECF6\", \"gridcolor\": \"white\", \"gridwidth\": 2, \"linecolor\": \"white\", \"showbackground\": true, \"ticks\": \"\", \"zerolinecolor\": \"white\"}}, \"shapedefaults\": {\"line\": {\"color\": \"#2a3f5f\"}}, \"ternary\": {\"aaxis\": {\"gridcolor\": \"white\", \"linecolor\": \"white\", \"ticks\": \"\"}, \"baxis\": {\"gridcolor\": \"white\", \"linecolor\": \"white\", \"ticks\": \"\"}, \"bgcolor\": \"#E5ECF6\", \"caxis\": {\"gridcolor\": \"white\", \"linecolor\": \"white\", \"ticks\": \"\"}}, \"title\": {\"x\": 0.05}, \"xaxis\": {\"automargin\": true, \"gridcolor\": \"white\", \"linecolor\": \"white\", \"ticks\": \"\", \"title\": {\"standoff\": 15}, \"zerolinecolor\": \"white\", \"zerolinewidth\": 2}, \"yaxis\": {\"automargin\": true, \"gridcolor\": \"white\", \"linecolor\": \"white\", \"ticks\": \"\", \"title\": {\"standoff\": 15}, \"zerolinecolor\": \"white\", \"zerolinewidth\": 2}}}},                        {\"responsive\": true}                    ).then(function(){\n",
       "                            \n",
       "var gd = document.getElementById('6d689b3f-1e22-47b1-b8de-d9c4ccf29a7b');\n",
       "var x = new MutationObserver(function (mutations, observer) {{\n",
       "        var display = window.getComputedStyle(gd).display;\n",
       "        if (!display || display === 'none') {{\n",
       "            console.log([gd, 'removed!']);\n",
       "            Plotly.purge(gd);\n",
       "            observer.disconnect();\n",
       "        }}\n",
       "}});\n",
       "\n",
       "// Listen for the removal of the full notebook cells\n",
       "var notebookContainer = gd.closest('#notebook-container');\n",
       "if (notebookContainer) {{\n",
       "    x.observe(notebookContainer, {childList: true});\n",
       "}}\n",
       "\n",
       "// Listen for the clearing of the current output cell\n",
       "var outputEl = gd.closest('.output');\n",
       "if (outputEl) {{\n",
       "    x.observe(outputEl, {childList: true});\n",
       "}}\n",
       "\n",
       "                        })                };                });            </script>        </div>"
      ]
     },
     "metadata": {},
     "output_type": "display_data"
    }
   ],
   "source": [
    "import plotly.express as px\n",
    "\n",
    "fig = px.parallel_coordinates(\n",
    "    cv_results.apply(\n",
    "        {   # transformations applied to each column for readability\n",
    "            \"learning_rate\": np.log10,\n",
    "            \"max_leaf_nodes\": np.log2,\n",
    "            \"max_bins\": np.log2,\n",
    "            \"min_samples_leaf\": np.log10,\n",
    "            \"l2_regularization\": np.log10,\n",
    "            \"mean_test_score\": lambda x: x,\n",
    "        }\n",
    "    ),\n",
    "    color=\"mean_test_score\",\n",
    "    color_continuous_scale=px.colors.sequential.Viridis,\n",
    ")\n",
    "fig.show()"
   ]
  },
  {
   "cell_type": "markdown",
   "id": "496fb194",
   "metadata": {},
   "source": [
    "Note that we have <u>transformed most axis values by taking a log10 or log2 to spread the active ranges and improve readability</u>.\n",
    "\n",
    "It is possible to __select a range of results by clicking and holding on any axis__ of the parallel coordinate plot. You can then slide (move) the range selection and cross two selections to see the intersections. You can undo a selection by clicking once again on the same axis.\n",
    "\n",
    "For this hyperparameter search, it is interesting to confirm that the yellow lines (top performing models) all reach intermediate values for the `learning_rate`, that is, tick values between -2 and 0 which correspond to learning rate values of 0.01 to 1.0 once we invert back the log10 transform for that axis.\n",
    "\n",
    "But now we can also observe that it is not possible to select the highest performing models by selecting lines of on the `max_bins` axis with tick values between 1 and 3.\n",
    "\n",
    "The other hyperparameters are not very sensitive. We can check that if we select the `learning_rate` axis tick values between -1.5 and -0.5 and `max_bins tick` values between 5 and 8, we always select top performing models, whatever the values of the other hyperparameters."
   ]
  },
  {
   "cell_type": "markdown",
   "id": "605582e3",
   "metadata": {},
   "source": [
    "<a id=\"4\" ></a>\n",
    "## 4) Summary"
   ]
  },
  {
   "cell_type": "markdown",
   "id": "8ff0b0d5",
   "metadata": {},
   "source": [
    "- Hyperparameters have an impact on the models’ performance and should be wisely chosen; however not all hyperparameters will have significant impact;\n",
    "\n",
    "- The search for the best hyperparameters can be automated with a grid-search approach or a randomized search approach;\n",
    "\n",
    "- A __grid-search__ is __expensive__ and __does not scale__ when the number of hyperparameters to optimize increase. Besides, the combination are sampled only on a regular grid.\n",
    "\n",
    "- A __randomized-search__ allows a search with a fixed budget even with an __increasing number of hyperparameters__. Besides, the combination are sampled on a non-regular grid."
   ]
  },
  {
   "cell_type": "code",
   "execution_count": null,
   "id": "34872bf3",
   "metadata": {},
   "outputs": [],
   "source": []
  }
 ],
 "metadata": {
  "kernelspec": {
   "display_name": "Python 3 (ipykernel)",
   "language": "python",
   "name": "python3"
  },
  "language_info": {
   "codemirror_mode": {
    "name": "ipython",
    "version": 3
   },
   "file_extension": ".py",
   "mimetype": "text/x-python",
   "name": "python",
   "nbconvert_exporter": "python",
   "pygments_lexer": "ipython3",
   "version": "3.8.12"
  }
 },
 "nbformat": 4,
 "nbformat_minor": 5
}
